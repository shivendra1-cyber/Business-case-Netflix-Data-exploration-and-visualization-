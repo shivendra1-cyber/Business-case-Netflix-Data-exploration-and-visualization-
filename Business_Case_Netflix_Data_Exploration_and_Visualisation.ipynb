{
  "cells": [
    {
      "cell_type": "markdown",
      "metadata": {
        "id": "view-in-github",
        "colab_type": "text"
      },
      "source": [
        "<a href=\"https://colab.research.google.com/github/shivendra1-cyber/Business-case-Netflix-Data-exploration-and-visualization-/blob/main/Business_Case_Netflix_Data_Exploration_and_Visualisation.ipynb\" target=\"_parent\"><img src=\"https://colab.research.google.com/assets/colab-badge.svg\" alt=\"Open In Colab\"/></a>"
      ]
    },
    {
      "cell_type": "code",
      "execution_count": null,
      "metadata": {
        "colab": {
          "base_uri": "https://localhost:8080/",
          "height": 38
        },
        "id": "wiHHEmDvHqoV",
        "outputId": "a095f269-dfc0-4848-e41f-b30ea01b7278"
      },
      "outputs": [
        {
          "output_type": "display_data",
          "data": {
            "text/plain": [
              "<IPython.core.display.HTML object>"
            ],
            "text/html": [
              "\n",
              "     <input type=\"file\" id=\"files-03f5a2b8-f6f3-467c-bc5d-d6e285f6a7ae\" name=\"files[]\" multiple disabled\n",
              "        style=\"border:none\" />\n",
              "     <output id=\"result-03f5a2b8-f6f3-467c-bc5d-d6e285f6a7ae\">\n",
              "      Upload widget is only available when the cell has been executed in the\n",
              "      current browser session. Please rerun this cell to enable.\n",
              "      </output>\n",
              "      <script>// Copyright 2017 Google LLC\n",
              "//\n",
              "// Licensed under the Apache License, Version 2.0 (the \"License\");\n",
              "// you may not use this file except in compliance with the License.\n",
              "// You may obtain a copy of the License at\n",
              "//\n",
              "//      http://www.apache.org/licenses/LICENSE-2.0\n",
              "//\n",
              "// Unless required by applicable law or agreed to in writing, software\n",
              "// distributed under the License is distributed on an \"AS IS\" BASIS,\n",
              "// WITHOUT WARRANTIES OR CONDITIONS OF ANY KIND, either express or implied.\n",
              "// See the License for the specific language governing permissions and\n",
              "// limitations under the License.\n",
              "\n",
              "/**\n",
              " * @fileoverview Helpers for google.colab Python module.\n",
              " */\n",
              "(function(scope) {\n",
              "function span(text, styleAttributes = {}) {\n",
              "  const element = document.createElement('span');\n",
              "  element.textContent = text;\n",
              "  for (const key of Object.keys(styleAttributes)) {\n",
              "    element.style[key] = styleAttributes[key];\n",
              "  }\n",
              "  return element;\n",
              "}\n",
              "\n",
              "// Max number of bytes which will be uploaded at a time.\n",
              "const MAX_PAYLOAD_SIZE = 100 * 1024;\n",
              "\n",
              "function _uploadFiles(inputId, outputId) {\n",
              "  const steps = uploadFilesStep(inputId, outputId);\n",
              "  const outputElement = document.getElementById(outputId);\n",
              "  // Cache steps on the outputElement to make it available for the next call\n",
              "  // to uploadFilesContinue from Python.\n",
              "  outputElement.steps = steps;\n",
              "\n",
              "  return _uploadFilesContinue(outputId);\n",
              "}\n",
              "\n",
              "// This is roughly an async generator (not supported in the browser yet),\n",
              "// where there are multiple asynchronous steps and the Python side is going\n",
              "// to poll for completion of each step.\n",
              "// This uses a Promise to block the python side on completion of each step,\n",
              "// then passes the result of the previous step as the input to the next step.\n",
              "function _uploadFilesContinue(outputId) {\n",
              "  const outputElement = document.getElementById(outputId);\n",
              "  const steps = outputElement.steps;\n",
              "\n",
              "  const next = steps.next(outputElement.lastPromiseValue);\n",
              "  return Promise.resolve(next.value.promise).then((value) => {\n",
              "    // Cache the last promise value to make it available to the next\n",
              "    // step of the generator.\n",
              "    outputElement.lastPromiseValue = value;\n",
              "    return next.value.response;\n",
              "  });\n",
              "}\n",
              "\n",
              "/**\n",
              " * Generator function which is called between each async step of the upload\n",
              " * process.\n",
              " * @param {string} inputId Element ID of the input file picker element.\n",
              " * @param {string} outputId Element ID of the output display.\n",
              " * @return {!Iterable<!Object>} Iterable of next steps.\n",
              " */\n",
              "function* uploadFilesStep(inputId, outputId) {\n",
              "  const inputElement = document.getElementById(inputId);\n",
              "  inputElement.disabled = false;\n",
              "\n",
              "  const outputElement = document.getElementById(outputId);\n",
              "  outputElement.innerHTML = '';\n",
              "\n",
              "  const pickedPromise = new Promise((resolve) => {\n",
              "    inputElement.addEventListener('change', (e) => {\n",
              "      resolve(e.target.files);\n",
              "    });\n",
              "  });\n",
              "\n",
              "  const cancel = document.createElement('button');\n",
              "  inputElement.parentElement.appendChild(cancel);\n",
              "  cancel.textContent = 'Cancel upload';\n",
              "  const cancelPromise = new Promise((resolve) => {\n",
              "    cancel.onclick = () => {\n",
              "      resolve(null);\n",
              "    };\n",
              "  });\n",
              "\n",
              "  // Wait for the user to pick the files.\n",
              "  const files = yield {\n",
              "    promise: Promise.race([pickedPromise, cancelPromise]),\n",
              "    response: {\n",
              "      action: 'starting',\n",
              "    }\n",
              "  };\n",
              "\n",
              "  cancel.remove();\n",
              "\n",
              "  // Disable the input element since further picks are not allowed.\n",
              "  inputElement.disabled = true;\n",
              "\n",
              "  if (!files) {\n",
              "    return {\n",
              "      response: {\n",
              "        action: 'complete',\n",
              "      }\n",
              "    };\n",
              "  }\n",
              "\n",
              "  for (const file of files) {\n",
              "    const li = document.createElement('li');\n",
              "    li.append(span(file.name, {fontWeight: 'bold'}));\n",
              "    li.append(span(\n",
              "        `(${file.type || 'n/a'}) - ${file.size} bytes, ` +\n",
              "        `last modified: ${\n",
              "            file.lastModifiedDate ? file.lastModifiedDate.toLocaleDateString() :\n",
              "                                    'n/a'} - `));\n",
              "    const percent = span('0% done');\n",
              "    li.appendChild(percent);\n",
              "\n",
              "    outputElement.appendChild(li);\n",
              "\n",
              "    const fileDataPromise = new Promise((resolve) => {\n",
              "      const reader = new FileReader();\n",
              "      reader.onload = (e) => {\n",
              "        resolve(e.target.result);\n",
              "      };\n",
              "      reader.readAsArrayBuffer(file);\n",
              "    });\n",
              "    // Wait for the data to be ready.\n",
              "    let fileData = yield {\n",
              "      promise: fileDataPromise,\n",
              "      response: {\n",
              "        action: 'continue',\n",
              "      }\n",
              "    };\n",
              "\n",
              "    // Use a chunked sending to avoid message size limits. See b/62115660.\n",
              "    let position = 0;\n",
              "    do {\n",
              "      const length = Math.min(fileData.byteLength - position, MAX_PAYLOAD_SIZE);\n",
              "      const chunk = new Uint8Array(fileData, position, length);\n",
              "      position += length;\n",
              "\n",
              "      const base64 = btoa(String.fromCharCode.apply(null, chunk));\n",
              "      yield {\n",
              "        response: {\n",
              "          action: 'append',\n",
              "          file: file.name,\n",
              "          data: base64,\n",
              "        },\n",
              "      };\n",
              "\n",
              "      let percentDone = fileData.byteLength === 0 ?\n",
              "          100 :\n",
              "          Math.round((position / fileData.byteLength) * 100);\n",
              "      percent.textContent = `${percentDone}% done`;\n",
              "\n",
              "    } while (position < fileData.byteLength);\n",
              "  }\n",
              "\n",
              "  // All done.\n",
              "  yield {\n",
              "    response: {\n",
              "      action: 'complete',\n",
              "    }\n",
              "  };\n",
              "}\n",
              "\n",
              "scope.google = scope.google || {};\n",
              "scope.google.colab = scope.google.colab || {};\n",
              "scope.google.colab._files = {\n",
              "  _uploadFiles,\n",
              "  _uploadFilesContinue,\n",
              "};\n",
              "})(self);\n",
              "</script> "
            ]
          },
          "metadata": {}
        }
      ],
      "source": [
        "from google.colab import files\n",
        "files.upload()\n",
        "print(\"DONE\")"
      ]
    },
    {
      "cell_type": "code",
      "execution_count": null,
      "metadata": {
        "id": "4wLYy5-WH66C"
      },
      "outputs": [],
      "source": [
        "#importing libraries for our purpose\n",
        "import pandas as pd\n",
        "import numpy as np\n",
        "import matplotlib.pyplot as plt\n",
        "import seaborn a\n",
        "df=pd.read_csv('netflix_res.csv')\n",
        "df.head()"
      ]
    },
    {
      "cell_type": "code",
      "execution_count": null,
      "metadata": {
        "id": "A00-MprcI_qZ"
      },
      "outputs": [],
      "source": [
        "#length of data\n",
        "len(df)"
      ]
    },
    {
      "cell_type": "code",
      "execution_count": null,
      "metadata": {
        "id": "leWkTnuhH68T"
      },
      "outputs": [],
      "source": [
        "#checking datatypes\n",
        "df.dtypes"
      ]
    },
    {
      "cell_type": "code",
      "execution_count": null,
      "metadata": {
        "id": "JZCqjxw_MNAc"
      },
      "outputs": [],
      "source": [
        "#number of unique values in our data\n",
        "for i in df.columns:\n",
        "  print(i,':',df[i].nunique())"
      ]
    },
    {
      "cell_type": "code",
      "execution_count": null,
      "metadata": {
        "id": "Y2yczLELH6_S"
      },
      "outputs": [],
      "source": [
        "#checking null values in every column of our data\n",
        "df.isnull().sum()"
      ]
    },
    {
      "cell_type": "code",
      "execution_count": null,
      "metadata": {
        "id": "tYEcoIuwH7Bp"
      },
      "outputs": [],
      "source": [
        "#checking the occurences of each of the ratings\n",
        "df['rating'].value_counts()"
      ]
    },
    {
      "cell_type": "code",
      "execution_count": null,
      "metadata": {
        "id": "GriU0hG-gazv"
      },
      "outputs": [],
      "source": [
        "#unnesting the directors column, i.e- creating separate lines for each director in a movie\n",
        "constraint1=df['director'].apply(lambda x: str(x).split(', ')).tolist()\n",
        "df_new1=pd.DataFrame(constraint1,index=df['title'])\n",
        "df_new1=df_new1.stack()\n",
        "df_new1=pd.DataFrame(df_new1.reset_index())\n",
        "df_new1.rename(columns={0:'Directors'},inplace=True)\n",
        "df_new1.drop(['level_1'],axis=1,inplace=True)\n",
        "df_new1.head()"
      ]
    },
    {
      "cell_type": "code",
      "execution_count": null,
      "metadata": {
        "id": "k7t1fPsWjhJs"
      },
      "outputs": [],
      "source": [
        "#unnesting the cast column, i.e- creating separate lines for each cast member in a movie\n",
        "constraint2=df['cast'].apply(lambda x: str(x).split(', ')).tolist()\n",
        "df_new2=pd.DataFrame(constraint2,index=df['title'])\n",
        "df_new2=df_new2.stack()\n",
        "df_new2=pd.DataFrame(df_new2.reset_index())\n",
        "df_new2.rename(columns={0:'Actors'},inplace=True)\n",
        "df_new2.drop(['level_1'],axis=1,inplace=True)\n",
        "df_new2.head()"
      ]
    },
    {
      "cell_type": "code",
      "execution_count": null,
      "metadata": {
        "id": "V4K2u5Qb-2vI"
      },
      "outputs": [],
      "source": [
        "#unnesting the listed_in column, i.e- creating separate lines for each genre in a movie\n",
        "constraint3=df['listed_in'].apply(lambda x: str(x).split(', ')).tolist()\n",
        "df_new3=pd.DataFrame(constraint3,index=df['title'])\n",
        "df_new3=df_new3.stack()\n",
        "df_new3=pd.DataFrame(df_new3.reset_index())\n",
        "df_new3.rename(columns={0:'Genre'},inplace=True)\n",
        "df_new3.drop(['level_1'],axis=1,inplace=True)\n",
        "df_new3.head()"
      ]
    },
    {
      "cell_type": "code",
      "execution_count": null,
      "metadata": {
        "id": "DnCSBUGkWsMy"
      },
      "outputs": [],
      "source": [
        "#unnesting the country column, i.e- creating separate lines for each country in a movie\n",
        "constraint4=df['country'].apply(lambda x: str(x).split(', ')).tolist()\n",
        "df_new4=pd.DataFrame(constraint4,index=df['title'])\n",
        "df_new4=df_new4.stack()\n",
        "df_new4=pd.DataFrame(df_new4.reset_index())\n",
        "df_new4.rename(columns={0:'country'},inplace=True)\n",
        "df_new4.drop(['level_1'],axis=1,inplace=True)\n",
        "df_new4.head()"
      ]
    },
    {
      "cell_type": "code",
      "execution_count": null,
      "metadata": {
        "id": "IF-6H41gJImt"
      },
      "outputs": [],
      "source": [
        "#merging the unnested director data with unnested actors data\n",
        "df_new5=df_new2.merge(df_new1,on=['title'],how='inner')\n",
        "#merging the above merged data with unnested genre data\n",
        "df_new6=df_new5.merge(df_new3,on=['title'],how='inner')\n",
        "#merging the above merged data with unnested country data\n",
        "df_new=df_new6.merge(df_new4,on=['title'],how='inner')\n",
        "#replacing nan values of director and actor by Unknown Actor and Director\n",
        "df_new['Actors'].replace(['nan'],['Unknown Actor'],inplace=True)\n",
        "df_new['Directors'].replace(['nan'],['Unknown Director'],inplace=True)\n",
        "df_new['country'].replace(['nan'],[np.nan],inplace=True)\n",
        "df_new.head()"
      ]
    },
    {
      "cell_type": "code",
      "execution_count": null,
      "metadata": {
        "id": "KZZt3CZIkh00"
      },
      "outputs": [],
      "source": [
        "#merging our unnested data with the original data\n",
        "df_final=df_new.merge(df[['show_id', 'type', 'title', 'date_added',\n",
        "       'release_year', 'rating', 'duration']],on=['title'],how='left')\n",
        "df_final.head()"
      ]
    },
    {
      "cell_type": "code",
      "execution_count": null,
      "metadata": {
        "id": "oYT6dBwOkh2q"
      },
      "outputs": [],
      "source": [
        "#now checking nulls\n",
        "df_final.isnull().sum()"
      ]
    },
    {
      "cell_type": "markdown",
      "metadata": {
        "id": "HlmviqDMBUTH"
      },
      "source": [
        "In duration column, it was observed that the nulls had values which were written in corresponding ratings column, i.e- you can't expect ratings to be in min. So the duration column nulls are replaced by corresponding values in ratings column"
      ]
    },
    {
      "cell_type": "code",
      "execution_count": null,
      "metadata": {
        "id": "0LNU7X9kkh6D"
      },
      "outputs": [],
      "source": [
        "df_final.loc[df_final['duration'].isnull(),'duration']=df_final.loc[df_final['duration'].isnull(),'duration'].fillna(df_final['rating'])\n",
        "df_final.loc[df_final['rating'].str.contains('min', na=False),'rating']='NR'\n",
        "df_final.isnull().sum()"
      ]
    },
    {
      "cell_type": "code",
      "execution_count": null,
      "metadata": {
        "id": "4_rfT2pw_l27"
      },
      "outputs": [],
      "source": [
        "#Ratings can't be in min, so it has been made NR(i.e- Non Rated)\n",
        "df_final.loc[df_final['rating'].str.contains('min', na=False),'rating']='NR'\n",
        "df_final['rating'].fillna('NR',inplace=True)\n",
        "pd.set_option('display.max_rows',None)"
      ]
    },
    {
      "cell_type": "code",
      "execution_count": null,
      "metadata": {
        "id": "YXUrAB3y_2zr"
      },
      "outputs": [],
      "source": [
        "#just an attempt to observe nulls in date_added column\n",
        "df_final[df_final['date_added'].isnull()].head()"
      ]
    },
    {
      "cell_type": "code",
      "execution_count": null,
      "metadata": {
        "id": "lBLz_RVl_oqE"
      },
      "outputs": [],
      "source": [
        "#date added column is imputed on the basis of release year,i.e- suppose there's a null for date_added \n",
        "#when release year was 2013.So below piece of code just checks the mode of date added for release year=2013\n",
        "# and imputes in place of nulls the corresponding mode\n",
        "\n",
        "for i in df_final[df_final['date_added'].isnull()]['release_year'].unique():\n",
        "  imp=df_final[df_final['release_year']==i]['date_added'].mode().values[0]\n",
        "  df_final.loc[df_final['release_year']==i,'date_added']=df_final.loc[df_final['release_year']==i,'date_added'].fillna(imp)"
      ]
    },
    {
      "cell_type": "code",
      "execution_count": null,
      "metadata": {
        "id": "P8-ql9cZ_qyx"
      },
      "outputs": [],
      "source": [
        "#country column is imputed on the basis of director,i.e- suppose there's a null for country \n",
        "#when we have a director whose other movies have a country given.So below piece of code just checks the mode of \n",
        "#country for the director\n",
        "# and imputes in place of nulls the corresponding mode\n",
        "\n",
        "for i in df_final[df_final['country'].isnull()]['Directors'].unique():\n",
        "  if i in df_final[~df_final['country'].isnull()]['Directors'].unique():\n",
        "    imp=df_final[df_final['Directors']==i]['country'].mode().values[0]\n",
        "    df_final.loc[df_final['Directors']==i,'country']=df_final.loc[df_final['Directors']==i,'country'].fillna(imp)"
      ]
    },
    {
      "cell_type": "markdown",
      "metadata": {
        "id": "ZexDJzBaCwlD"
      },
      "source": [
        "So we imputed the country column on the basis of directors whose other movie titles had countries given. But there might be directors who have only one occurence in our data. In that scenario, I have used Actors as a basis. i.e- for this Actor majorly acts in movies of which country? Imputation has been done on this basis. For remaining rows, country has been filled as Unknown Country"
      ]
    },
    {
      "cell_type": "code",
      "execution_count": null,
      "metadata": {
        "id": "2UK88h0e_ss3"
      },
      "outputs": [],
      "source": [
        "for i in df_final[df_final['country'].isnull()]['Actors'].unique():\n",
        "  if i in df_final[~df_final['country'].isnull()]['Actors'].unique():\n",
        "    imp=df_final[df_final['Actors']==i]['country'].mode().values[0]\n",
        "    df_final.loc[df_final['Actors']==i,'country']=df_final.loc[df_final['Actors']==i,'country'].fillna(imp)\n",
        "#If there are still nulls, I just replace it by Unknown Country\n",
        "df_final['country'].fillna('Unknown Country',inplace=True)       \n",
        "df_final.isnull().sum()"
      ]
    },
    {
      "cell_type": "code",
      "execution_count": null,
      "metadata": {
        "id": "0JrrvhXgmJ3O"
      },
      "outputs": [],
      "source": [
        "df_final.head()"
      ]
    },
    {
      "cell_type": "code",
      "execution_count": null,
      "metadata": {
        "id": "EFhyxTzI6Bpy"
      },
      "outputs": [],
      "source": [
        "df_final['duration'].value_counts()"
      ]
    },
    {
      "cell_type": "code",
      "execution_count": null,
      "metadata": {
        "id": "qUCKEA7D7bk0"
      },
      "outputs": [],
      "source": [
        "#removing mins from data\n",
        "df_final['duration']=df_final['duration'].str.replace(\" min\",\"\")\n",
        "df_final.head()"
      ]
    },
    {
      "cell_type": "code",
      "execution_count": null,
      "metadata": {
        "id": "H51Ia_Bo7boO"
      },
      "outputs": [],
      "source": [
        "df_final['duration'].unique()"
      ]
    },
    {
      "cell_type": "code",
      "execution_count": null,
      "metadata": {
        "id": "UlxRRwHFG-l-"
      },
      "outputs": [],
      "source": [
        "df_final['duration_copy']=df_final['duration'].copy()\n",
        "df_final1=df_final.copy()"
      ]
    },
    {
      "cell_type": "code",
      "execution_count": null,
      "metadata": {
        "id": "-EXUvgmmKR9W"
      },
      "outputs": [],
      "source": [
        "df_final1.loc[df_final1['duration_copy'].str.contains('Season'),'duration_copy']=0\n",
        "df_final1['duration_copy']=df_final1['duration_copy'].astype('int')\n",
        "df_final1.head()"
      ]
    },
    {
      "cell_type": "code",
      "execution_count": null,
      "metadata": {
        "id": "w9MQgpnhNDaq"
      },
      "outputs": [],
      "source": [
        "df_final1['duration_copy'].describe()"
      ]
    },
    {
      "cell_type": "code",
      "execution_count": null,
      "metadata": {
        "id": "OMqNPHpDNctE"
      },
      "outputs": [],
      "source": [
        "import seaborn as sns\n",
        "sns.distplot(df_final1['duration_copy'], hist=True, kde=True, \n",
        "bins=int(36), color = 'darkblue', \n",
        "hist_kws={'edgecolor':'black'},\n",
        "kde_kws={'linewidth': 4})\n",
        "plt.show()"
      ]
    },
    {
      "cell_type": "code",
      "execution_count": null,
      "metadata": {
        "id": "vWHK28hRG-pQ"
      },
      "outputs": [],
      "source": [
        "bins1 = [-1,1,50,80,100,120,150,200,315]\n",
        "labels1 = ['<1','1-50','50-80','80-100','100-120','120-150','150-200','200-315']\n",
        "df_final1['duration_copy'] = pd.cut(df_final1['duration_copy'],bins=bins1,labels=labels1)\n",
        "df_final1.head()"
      ]
    },
    {
      "cell_type": "code",
      "execution_count": null,
      "metadata": {
        "id": "I67tcKjwG-xm"
      },
      "outputs": [],
      "source": [
        "df_final1.loc[~df_final1['duration'].str.contains('Season'),'duration']=df_final1.loc[~df_final1['duration'].str.contains('Season'),'duration_copy']\n",
        "df_final1.drop(['duration_copy'],axis=1,inplace=True)\n",
        "df_final1.head()"
      ]
    },
    {
      "cell_type": "code",
      "execution_count": null,
      "metadata": {
        "id": "_qtN_dh6RmE0"
      },
      "outputs": [],
      "source": [
        "df_final1['duration'].value_counts()"
      ]
    },
    {
      "cell_type": "code",
      "execution_count": null,
      "metadata": {
        "id": "Sbn5bl3DfgtJ"
      },
      "outputs": [],
      "source": [
        "from datetime import datetime\n",
        "from dateutil.parser import parse\n",
        "arr=[]\n",
        "for i in df_final1['date_added'].values:\n",
        "  dt1=parse(i)\n",
        "  arr.append(dt1.strftime('%Y-%m-%d'))\n",
        "df_final1['Modified_Added_date'] =arr\n",
        "df_final1['Modified_Added_date']=pd.to_datetime(df_final1['Modified_Added_date'])\n",
        "df_final1['month_added']=df_final1['Modified_Added_date'].dt.month\n",
        "df_final1['week_Added']=df_final1['Modified_Added_date'].dt.week\n",
        "df_final1['year']=df_final1['Modified_Added_date'].dt.year\n",
        "df_final1.head()"
      ]
    },
    {
      "cell_type": "code",
      "execution_count": null,
      "metadata": {
        "id": "YUW8szDjikyW"
      },
      "outputs": [],
      "source": [
        "#Titles such as Bahubali(Hindi Version),Bahubali(Tamil Version) were there. Since it's only one movie in different languages,\n",
        "#presence of brackets and content between brackets is removed.\n",
        "df_final1['title']=df_final1['title'].str.replace(r\"\\(.*\\)\",\"\")\n",
        "df_final1.head()"
      ]
    },
    {
      "cell_type": "markdown",
      "metadata": {
        "id": "gw8Mw05ZUMWi"
      },
      "source": [
        "#### Univariate Analysis in terms of counts of each column"
      ]
    },
    {
      "cell_type": "code",
      "execution_count": null,
      "metadata": {
        "id": "Ih5WBRxORmHD"
      },
      "outputs": [],
      "source": [
        "#number of distinct titles on the basis of genre\n",
        "df_final1.groupby(['Genre']).agg({\"title\":\"nunique\"})"
      ]
    },
    {
      "cell_type": "code",
      "execution_count": null,
      "metadata": {
        "id": "sU0RB9lap-Ot"
      },
      "outputs": [],
      "source": [
        "df_genre=df_final1.groupby(['Genre']).agg({\"title\":\"nunique\"}).reset_index().sort_values(by=['title'],ascending=False)[:15]\n",
        "plt.figure(figsize=(15,8))\n",
        "plt.barh(df_genre[::-1]['Genre'], df_genre[::-1]['title'],color=['orange'])\n",
        "plt.xlabel('Frequency of Genres')\n",
        "plt.ylabel('Genres')\n",
        "plt.show()"
      ]
    },
    {
      "cell_type": "markdown",
      "metadata": {
        "id": "JND1iNqMvXQV"
      },
      "source": [
        "International Movies, Dramas and Comedies are the most popular ."
      ]
    },
    {
      "cell_type": "code",
      "execution_count": null,
      "metadata": {
        "id": "br7IC-mdRmJX"
      },
      "outputs": [],
      "source": [
        "#number of distinct titles on the basis of type\n",
        "df_final1.groupby(['type']).agg({\"title\":\"nunique\"})"
      ]
    },
    {
      "cell_type": "code",
      "execution_count": null,
      "metadata": {
        "id": "AxtLqv9hon2K"
      },
      "outputs": [],
      "source": [
        " df_type=df_final1.groupby(['type']).agg({\"title\":\"nunique\"}).reset_index()\n",
        " plt.pie(df_type['title'],explode=(0.05,0.05), labels=df_type['type'],colors=['purple','green'],autopct='%.1f%%')\n",
        " plt.show()"
      ]
    },
    {
      "cell_type": "markdown",
      "metadata": {
        "id": "GcNDAc-CtbEG"
      },
      "source": [
        "We have 70:30 ratio of Movies and TV Shows in our data"
      ]
    },
    {
      "cell_type": "code",
      "execution_count": null,
      "metadata": {
        "id": "lFC2TfBsRmMu"
      },
      "outputs": [],
      "source": [
        "#number of distinct titles on the basis of country\n",
        "df_final1.groupby(['country']).agg({\"title\":\"nunique\"})"
      ]
    },
    {
      "cell_type": "markdown",
      "metadata": {
        "id": "xEtzt00xbOPH"
      },
      "source": [
        "The above dataframe shows a flaw in which we are seeing countries, such as Cambodia and Cambodia, or United States and United States, are shown as different countries.They should have been same"
      ]
    },
    {
      "cell_type": "code",
      "execution_count": null,
      "metadata": {
        "id": "xIOky5VHWSla"
      },
      "outputs": [],
      "source": [
        "df_final1['country'] = df_final1['country'].str.replace(',', '')\n",
        "df_final1.head()"
      ]
    },
    {
      "cell_type": "code",
      "execution_count": null,
      "metadata": {
        "id": "G0l-673xWSnd"
      },
      "outputs": [],
      "source": [
        "#number of distinct titles on the basis of country\n",
        "df_final1.groupby(['country']).agg({\"title\":\"nunique\"})"
      ]
    },
    {
      "cell_type": "markdown",
      "metadata": {
        "id": "Qlhp7gjNcJ75"
      },
      "source": [
        "Now it looks great."
      ]
    },
    {
      "cell_type": "code",
      "execution_count": null,
      "metadata": {
        "id": "4d0xI5o3ugg5"
      },
      "outputs": [],
      "source": [
        "df_country=df_final1.groupby(['country']).agg({\"title\":\"nunique\"}).reset_index().sort_values(by=['title'],ascending=False)[:5]\n",
        "plt.figure(figsize=(15,8))\n",
        "plt.barh(df_country[::-1]['country'], df_country[::-1]['title'],color=['blue'])\n",
        "plt.xlabel('Titles by Countries')\n",
        "plt.ylabel('Countries')\n",
        "plt.show()"
      ]
    },
    {
      "cell_type": "markdown",
      "metadata": {
        "id": "8rl2Ex1StkZD"
      },
      "source": [
        "US,India,UK,Canada and France are leading countries in Content Creation on Netflix"
      ]
    },
    {
      "cell_type": "code",
      "execution_count": null,
      "metadata": {
        "id": "B7OqAQjxcCk0"
      },
      "outputs": [],
      "source": [
        "#number of distinct titles on the basis of rating\n",
        "df_final1.groupby(['rating']).agg({\"title\":\"nunique\"})"
      ]
    },
    {
      "cell_type": "code",
      "execution_count": null,
      "metadata": {
        "id": "RR9MPUydvEoI"
      },
      "outputs": [],
      "source": [
        "df_rating=df_final1.groupby(['rating']).agg({\"title\":\"nunique\"}).reset_index().sort_values(by=['title'],ascending=False)[:15]\n",
        "plt.figure(figsize=(15,8))\n",
        "plt.barh(df_rating[::-1]['rating'], df_rating[::-1]['title'],color=['violet'])\n",
        "plt.xlabel('Frequency by Ratings')\n",
        "plt.ylabel('Ratings')\n",
        "plt.show()"
      ]
    },
    {
      "cell_type": "markdown",
      "metadata": {
        "id": "2o6DurFyt1Tr"
      },
      "source": [
        "Most of the highly rated content on Netflix is intended for Mature Audiences, R Rated, content not intended for audience under 14 and those which require Parental Guidance"
      ]
    },
    {
      "cell_type": "code",
      "execution_count": null,
      "metadata": {
        "id": "6zD5gVDBcCnH"
      },
      "outputs": [],
      "source": [
        "#number of distinct titles on the basis of duration\n",
        "df_final1.groupby(['duration']).agg({\"title\":\"nunique\"})"
      ]
    },
    {
      "cell_type": "code",
      "execution_count": null,
      "metadata": {
        "id": "BbtNuGxWvpOx"
      },
      "outputs": [],
      "source": [
        "df_duration=df_final1.groupby(['duration']).agg({\"title\":\"nunique\"}).reset_index().sort_values(by=['title'],ascending=False)[:10]\n",
        "plt.figure(figsize=(15,8))\n",
        "plt.barh(df_duration[::-1]['duration'], df_duration[::-1]['title'],color=['pink'])\n",
        "plt.xlabel('Frequency by Duration')\n",
        "plt.ylabel('Duration')\n",
        "plt.show()"
      ]
    },
    {
      "cell_type": "markdown",
      "metadata": {
        "id": "6yv--2dLuQzi"
      },
      "source": [
        "The duration of Most Watched content in our whole data is 80-100 mins.These must be movies and Shows having only 1 Season."
      ]
    },
    {
      "cell_type": "code",
      "execution_count": null,
      "metadata": {
        "id": "nraPlFBK0JxG"
      },
      "outputs": [],
      "source": [
        "#number of distinct titles on the basis of Actors\n",
        "df_final1.groupby(['Actors']).agg({\"title\":\"nunique\"})"
      ]
    },
    {
      "cell_type": "code",
      "execution_count": null,
      "metadata": {
        "id": "R3GDjq6t0KvV"
      },
      "outputs": [],
      "source": [
        "df_actors=df_final1.groupby(['Actors']).agg({\"title\":\"nunique\"}).reset_index().sort_values(by=['title'],ascending=False)[:31]\n",
        "df_actors=df_actors[df_actors['Actors']!='Unknown Actor']\n",
        "plt.figure(figsize=(15,8))\n",
        "plt.barh(df_actors[::-1]['Actors'], df_actors[::-1]['title'],color=['indigo'])\n",
        "plt.xlabel('Number of Movies')\n",
        "plt.ylabel('Popular Actors')\n",
        "plt.show()"
      ]
    },
    {
      "cell_type": "markdown",
      "metadata": {
        "id": "4x1QRDxNus8p"
      },
      "source": [
        "Anupam Kher,SRK,Julie Tejwani, Naseeruddin Shah and Takahiro Sakurai occupy the top stop in Most Watched content."
      ]
    },
    {
      "cell_type": "code",
      "execution_count": null,
      "metadata": {
        "id": "5CpfH2cC1WIL"
      },
      "outputs": [],
      "source": [
        "#number of distinct titles on the basis of Actors\n",
        "df_final1.groupby(['Directors']).agg({\"title\":\"nunique\"})"
      ]
    },
    {
      "cell_type": "code",
      "execution_count": null,
      "metadata": {
        "id": "eHtfM4r01WLQ"
      },
      "outputs": [],
      "source": [
        "df_directors=df_final1.groupby(['Directors']).agg({\"title\":\"nunique\"}).reset_index().sort_values(by=['title'],ascending=False)[:31]\n",
        "df_directors=df_directors[df_directors['Directors']!='Unknown Director']\n",
        "plt.figure(figsize=(15,8))\n",
        "plt.barh(df_directors[::-1]['Directors'], df_directors[::-1]['title'],color=['indigo'])\n",
        "plt.xlabel('Number of Movies')\n",
        "plt.ylabel('Popular Directors')\n",
        "plt.show()"
      ]
    },
    {
      "cell_type": "markdown",
      "metadata": {
        "id": "QBCZOxGTu_z7"
      },
      "source": [
        "Rajiv Chilaka, Jan Suter and Raul Campos are the most popular directors across Netflix"
      ]
    },
    {
      "cell_type": "code",
      "execution_count": null,
      "metadata": {
        "id": "WxsYCeI4cCs2"
      },
      "outputs": [],
      "source": [
        "#number of distinct titles on the basis of year\n",
        "df_final1.groupby(['year']).agg({\"title\":\"nunique\"})"
      ]
    },
    {
      "cell_type": "code",
      "execution_count": null,
      "metadata": {
        "id": "IM12jD10lqlW"
      },
      "outputs": [],
      "source": [
        "df_year=df_final1.groupby(['year']).agg({\"title\":\"nunique\"}).reset_index()\n",
        "sns.lineplot(data=df_year, x='year', y='title')\n",
        "plt.ylabel(\"Movies Released in the Year\")\n",
        "plt.xlabel(\"Year\")\n",
        "plt.show()"
      ]
    },
    {
      "cell_type": "markdown",
      "metadata": {
        "id": "xUkipncFvJsS"
      },
      "source": [
        "The Amount of Content across Netflix has increased from 2008 continuously till 2019. Then started decreasing from here(probably due to Covid)"
      ]
    },
    {
      "cell_type": "code",
      "execution_count": null,
      "metadata": {
        "id": "rxnlwXwvc4Kk"
      },
      "outputs": [],
      "source": [
        "#number of distinct titles on the basis of week\n",
        "df_final1.groupby(['week_Added']).agg({\"title\":\"nunique\"})"
      ]
    },
    {
      "cell_type": "code",
      "execution_count": null,
      "metadata": {
        "id": "-J8C2ZJOx1yI"
      },
      "outputs": [],
      "source": [
        "df_week=df_final1.groupby(['week_Added']).agg({\"title\":\"nunique\"}).reset_index()\n",
        "plt.figure(figsize=(15,8))\n",
        "sns.lineplot(data=df_week, x='week_Added', y='title')\n",
        "plt.ylabel(\"Movies Released in the Week\")\n",
        "plt.xlabel(\"Week No.\")\n",
        "plt.show()"
      ]
    },
    {
      "cell_type": "markdown",
      "metadata": {
        "id": "GoEKWmMgvc0p"
      },
      "source": [
        "Most of the Content across Netflix is added in the first week of the year and it follows a bit of a cyclical pattern"
      ]
    },
    {
      "cell_type": "code",
      "execution_count": null,
      "metadata": {
        "id": "xARWQ9bAc4Mv"
      },
      "outputs": [],
      "source": [
        "#number of distinct titles on the basis of week\n",
        "df_final1.groupby(['month_added']).agg({\"title\":\"nunique\"})"
      ]
    },
    {
      "cell_type": "code",
      "execution_count": null,
      "metadata": {
        "id": "VQEW9V6fc4PX"
      },
      "outputs": [],
      "source": [
        "df_month=df_final1.groupby(['month_added']).agg({\"title\":\"nunique\"}).reset_index()\n",
        "sns.lineplot(data=df_month, x='month_added', y='title')\n",
        "plt.ylabel(\"Movies Released in the Month\")\n",
        "plt.xlabel(\"Month\")\n",
        "plt.show()"
      ]
    },
    {
      "cell_type": "markdown",
      "metadata": {
        "id": "0SSCdO3NvnGR"
      },
      "source": [
        "Most of the content is added in the first and last months across Netflix(reinstating what we observed for first week in baove plot )"
      ]
    },
    {
      "cell_type": "code",
      "execution_count": null,
      "metadata": {
        "id": "VL5YDdBQ9uAk"
      },
      "outputs": [],
      "source": [
        "df_release_year=df_final1[df_final1['release_year']>=1980].groupby(['release_year']).agg({\"title\":\"nunique\"}).reset_index()\n",
        "sns.lineplot(data=df_release_year, x='release_year', y='title')\n",
        "plt.ylabel(\"Movies Actual Release Date\")\n",
        "plt.xlabel(\"Year\")\n",
        "plt.show()"
      ]
    },
    {
      "cell_type": "markdown",
      "metadata": {
        "id": "zw-Va1V4-bJE"
      },
      "source": [
        "Net content release which are later uploaded to Netflix has increased since 1980 till 2020 though later reduced certainly due to COVID-19"
      ]
    },
    {
      "cell_type": "markdown",
      "metadata": {
        "id": "2mkIWvO7nydT"
      },
      "source": [
        "#### Univariate Analysis separately for shows and movies\n",
        "---\n",
        "\n"
      ]
    },
    {
      "cell_type": "code",
      "execution_count": null,
      "metadata": {
        "id": "QS8h-IP5n8ho"
      },
      "outputs": [],
      "source": [
        "df_shows=df_final1[df_final1['type']=='TV Show']\n",
        "df_movies=df_final1[df_final1['type']=='Movie']"
      ]
    },
    {
      "cell_type": "code",
      "execution_count": null,
      "metadata": {
        "id": "f1hm1PU6nydV"
      },
      "outputs": [],
      "source": [
        "df_genre=df_shows.groupby(['Genre']).agg({\"title\":\"nunique\"}).reset_index().sort_values(by=['title'],ascending=False)[:15]\n",
        "plt.figure(figsize=(15,8))\n",
        "plt.barh(df_genre[::-1]['Genre'], df_genre[::-1]['title'],color=['orange'])\n",
        "plt.xlabel('Frequency of Genres')\n",
        "plt.ylabel('Genres')\n",
        "plt.show()"
      ]
    },
    {
      "cell_type": "markdown",
      "metadata": {
        "id": "CHxBWTmcwBcN"
      },
      "source": [
        "International TV Shows, Dramas and Comedy Genres are popular across TV Shows in Netflix"
      ]
    },
    {
      "cell_type": "code",
      "execution_count": null,
      "metadata": {
        "id": "U4lYDWkSohH3"
      },
      "outputs": [],
      "source": [
        "df_genre=df_movies.groupby(['Genre']).agg({\"title\":\"nunique\"}).reset_index().sort_values(by=['title'],ascending=False)[:15]\n",
        "plt.figure(figsize=(15,8))\n",
        "plt.barh(df_genre[::-1]['Genre'], df_genre[::-1]['title'],color=['orange'])\n",
        "plt.xlabel('Frequency of Genres')\n",
        "plt.ylabel('Genres')\n",
        "plt.show()"
      ]
    },
    {
      "cell_type": "markdown",
      "metadata": {
        "id": "f4yjSlShwQhj"
      },
      "source": [
        "International Movies, Dramas and Comedy Genres are popular followed by Documentaries across Movies on Netflix"
      ]
    },
    {
      "cell_type": "code",
      "execution_count": null,
      "metadata": {
        "id": "E318mwfAnydY"
      },
      "outputs": [],
      "source": [
        "df_country=df_shows.groupby(['country']).agg({\"title\":\"nunique\"}).reset_index().sort_values(by=['title'],ascending=False)[:10]\n",
        "plt.figure(figsize=(15,8))\n",
        "plt.barh(df_country[::-1]['country'], df_country[::-1]['title'],color=['blue'])\n",
        "plt.xlabel('Titles by Countries')\n",
        "plt.ylabel('Countries')\n",
        "plt.show()"
      ]
    },
    {
      "cell_type": "code",
      "execution_count": null,
      "metadata": {
        "id": "rFTu2y7DpUjG"
      },
      "outputs": [],
      "source": [
        "df_country=df_movies.groupby(['country']).agg({\"title\":\"nunique\"}).reset_index().sort_values(by=['title'],ascending=False)[:10]\n",
        "plt.figure(figsize=(15,8))\n",
        "plt.barh(df_country[::-1]['country'], df_country[::-1]['title'],color=['blue'])\n",
        "plt.xlabel('Titles by Countries')\n",
        "plt.ylabel('Countries')\n",
        "plt.show()"
      ]
    },
    {
      "cell_type": "markdown",
      "metadata": {
        "id": "3xQ8Aqzhwyxq"
      },
      "source": [
        "United States is leading across both TV Shows and Movies, UK also provides great content across TV Shows and Movies. Surprisingly India is much more prevalent in Movies as compared TV Shows. \n",
        "\n",
        "Moreover the number of Movies created in India outweigh the sum of TV Shows and Movies across UK since India was rated as second in net sum of whole content across Netflix."
      ]
    },
    {
      "cell_type": "code",
      "execution_count": null,
      "metadata": {
        "id": "4uwNOkmEnydZ"
      },
      "outputs": [],
      "source": [
        "df_rating=df_shows.groupby(['rating']).agg({\"title\":\"nunique\"}).reset_index().sort_values(by=['title'],ascending=False)[:15]\n",
        "plt.figure(figsize=(15,8))\n",
        "plt.barh(df_rating[::-1]['rating'], df_rating[::-1]['title'],color=['violet'])\n",
        "plt.xlabel('Frequency by Ratings')\n",
        "plt.ylabel('Ratings')\n",
        "plt.show()"
      ]
    },
    {
      "cell_type": "code",
      "execution_count": null,
      "metadata": {
        "id": "ybgCpI2hphod"
      },
      "outputs": [],
      "source": [
        "df_rating=df_movies.groupby(['rating']).agg({\"title\":\"nunique\"}).reset_index().sort_values(by=['title'],ascending=False)[:15]\n",
        "plt.figure(figsize=(15,8))\n",
        "plt.barh(df_rating[::-1]['rating'], df_rating[::-1]['title'],color=['violet'])\n",
        "plt.xlabel('Frequency by Ratings')\n",
        "plt.ylabel('Ratings')\n",
        "plt.show()"
      ]
    },
    {
      "cell_type": "markdown",
      "metadata": {
        "id": "PSiLNqNjxtxZ"
      },
      "source": [
        "So it seems plaussible to conclude that the popular ratings across Netflix includes Mature Audiences and those appropriate for over 14/over 17 ages.\n",
        "\n",
        "Moreover there are no TV Shows having a rating of R "
      ]
    },
    {
      "cell_type": "code",
      "execution_count": null,
      "metadata": {
        "id": "Wc7g_ufQnyda"
      },
      "outputs": [],
      "source": [
        "df_duration=df_shows.groupby(['duration']).agg({\"title\":\"nunique\"}).reset_index().sort_values(by=['title'],ascending=False)[:10]\n",
        "plt.figure(figsize=(15,8))\n",
        "plt.barh(df_duration[::-1]['duration'], df_duration[::-1]['title'],color=['pink'])\n",
        "plt.xlabel('Frequency by Duration')\n",
        "plt.ylabel('Duration')\n",
        "plt.show()"
      ]
    },
    {
      "cell_type": "markdown",
      "metadata": {
        "id": "mvYewibT0lyO"
      },
      "source": [
        "Across TV Shows, shows having only 1 Season are common as soon as the season length increases, the number of shows decrease and this definitely sounds as expected"
      ]
    },
    {
      "cell_type": "code",
      "execution_count": null,
      "metadata": {
        "id": "DAzhmelKp434"
      },
      "outputs": [],
      "source": [
        "df_duration=df_movies.groupby(['duration']).agg({\"title\":\"nunique\"}).reset_index().sort_values(by=['title'],ascending=False)[:10]\n",
        "plt.figure(figsize=(15,8))\n",
        "plt.barh(df_duration[::-1]['duration'], df_duration[::-1]['title'],color=['pink'])\n",
        "plt.xlabel('Frequency by Duration')\n",
        "plt.ylabel('Duration')\n",
        "plt.show()"
      ]
    },
    {
      "cell_type": "markdown",
      "metadata": {
        "id": "cUI-wwhd03d1"
      },
      "source": [
        "Across movies 80-100,100-120 and 120-150 is the ranges of minutes for which most movies lie. So quite possibly 80-150 mins is the sweet spot we would be wanting for movies."
      ]
    },
    {
      "cell_type": "code",
      "execution_count": null,
      "metadata": {
        "id": "I_ZFx7Btnyda"
      },
      "outputs": [],
      "source": [
        "df_actors=df_shows.groupby(['Actors']).agg({\"title\":\"nunique\"}).reset_index().sort_values(by=['title'],ascending=False)[:31]\n",
        "df_actors=df_actors[df_actors['Actors']!='Unknown Actor']\n",
        "plt.figure(figsize=(15,8))\n",
        "plt.barh(df_actors[::-1]['Actors'], df_actors[::-1]['title'],color=['indigo'])\n",
        "plt.xlabel('Number of Movies')\n",
        "plt.ylabel('Popular Actors')\n",
        "plt.show()"
      ]
    },
    {
      "cell_type": "markdown",
      "metadata": {
        "id": "hzL7Mgyj1o0d"
      },
      "source": [
        "Takahiro Sakurai,Yuki Kaji and other South Korean/Japanese actors are the most popular actors across TV Shows"
      ]
    },
    {
      "cell_type": "code",
      "execution_count": null,
      "metadata": {
        "id": "ZFn5GC6SqMVn"
      },
      "outputs": [],
      "source": [
        "df_actors=df_movies.groupby(['Actors']).agg({\"title\":\"nunique\"}).reset_index().sort_values(by=['title'],ascending=False)[:31]\n",
        "df_actors=df_actors[df_actors['Actors']!='Unknown Actor']\n",
        "plt.figure(figsize=(15,8))\n",
        "plt.barh(df_actors[::-1]['Actors'], df_actors[::-1]['title'],color=['indigo'])\n",
        "plt.xlabel('Number of Movies')\n",
        "plt.ylabel('Popular Actors')\n",
        "plt.show()"
      ]
    },
    {
      "cell_type": "markdown",
      "metadata": {
        "id": "tpkXyhhs1392"
      },
      "source": [
        "Our bollywood actors such as Anupam Kher, SRK, Naseeruddin Shah are very much popular acrossmovies on Netflix"
      ]
    },
    {
      "cell_type": "code",
      "execution_count": null,
      "metadata": {
        "id": "ObDtmGW2nydb"
      },
      "outputs": [],
      "source": [
        "df_directors=df_shows.groupby(['Directors']).agg({\"title\":\"nunique\"}).reset_index().sort_values(by=['title'],ascending=False)[:31]\n",
        "df_directors=df_directors[df_directors['Directors']!='Unknown Director']\n",
        "plt.figure(figsize=(15,8))\n",
        "plt.barh(df_directors[::-1]['Directors'], df_directors[::-1]['title'],color=['indigo'])\n",
        "plt.xlabel('Number of Movies')\n",
        "plt.ylabel('Popular Directors')\n",
        "plt.show()"
      ]
    },
    {
      "cell_type": "markdown",
      "metadata": {
        "id": "-lpLCzAM2HZX"
      },
      "source": [
        "Ken Burns, Alastair Fothergill, Stan Lathan, Joe Barlinger are popular directors across TV Shows on Netflix"
      ]
    },
    {
      "cell_type": "code",
      "execution_count": null,
      "metadata": {
        "id": "u_J-XzPmqaEk"
      },
      "outputs": [],
      "source": [
        "df_directors=df_movies.groupby(['Directors']).agg({\"title\":\"nunique\"}).reset_index().sort_values(by=['title'],ascending=False)[:31]\n",
        "df_directors=df_directors[df_directors['Directors']!='Unknown Director']\n",
        "plt.figure(figsize=(15,8))\n",
        "plt.barh(df_directors[::-1]['Directors'], df_directors[::-1]['title'],color=['indigo'])\n",
        "plt.xlabel('Number of Movies')\n",
        "plt.ylabel('Popular Directors')\n",
        "plt.show()"
      ]
    },
    {
      "cell_type": "markdown",
      "metadata": {
        "id": "JRybwwbq2ZnW"
      },
      "source": [
        "Rajiv Chilka, Jan Suter, Raul Campos, Suhas Kadav are popular directors across movies"
      ]
    },
    {
      "cell_type": "code",
      "execution_count": null,
      "metadata": {
        "id": "W0ITyzN-nydc"
      },
      "outputs": [],
      "source": [
        "df_year=df_shows.groupby(['year']).agg({\"title\":\"nunique\"}).reset_index()\n",
        "sns.lineplot(data=df_year, x='year', y='title')\n",
        "plt.ylabel(\"Shows Released in the Year\")\n",
        "plt.xlabel(\"Year\")\n",
        "plt.show()"
      ]
    },
    {
      "cell_type": "code",
      "execution_count": null,
      "metadata": {
        "id": "yxmwBwkPqqDq"
      },
      "outputs": [],
      "source": [
        "df_year=df_movies.groupby(['year']).agg({\"title\":\"nunique\"}).reset_index()\n",
        "sns.lineplot(data=df_year, x='year', y='title')\n",
        "plt.ylabel(\"Movies Released in the Year\")\n",
        "plt.xlabel(\"Year\")\n",
        "plt.show()"
      ]
    },
    {
      "cell_type": "markdown",
      "metadata": {
        "id": "tRz64kPl2t5r"
      },
      "source": [
        "Till 2019, overall content across Netflix was increasing but due to Covid in 2020, though TV Shows didn't take a hit then Movies did take a hit. Well later in 2021, content across both was reduced significantly"
      ]
    },
    {
      "cell_type": "code",
      "execution_count": null,
      "metadata": {
        "id": "NME9tdgmnydd"
      },
      "outputs": [],
      "source": [
        "df_week=df_shows.groupby(['week_Added']).agg({\"title\":\"nunique\"}).reset_index()\n",
        "plt.figure(figsize=(15,8))\n",
        "sns.lineplot(data=df_week, x='week_Added', y='title')\n",
        "plt.ylabel(\"Movies Released in the Week\")\n",
        "plt.xlabel(\"Week No.\")\n",
        "plt.show()"
      ]
    },
    {
      "cell_type": "code",
      "execution_count": null,
      "metadata": {
        "id": "tXZ1mIpvq4YT"
      },
      "outputs": [],
      "source": [
        "df_week=df_movies.groupby(['week_Added']).agg({\"title\":\"nunique\"}).reset_index()\n",
        "plt.figure(figsize=(15,8))\n",
        "sns.lineplot(data=df_week, x='week_Added', y='title')\n",
        "plt.ylabel(\"Movies Released in the Week\")\n",
        "plt.xlabel(\"Week No.\")\n",
        "plt.show()"
      ]
    },
    {
      "cell_type": "code",
      "execution_count": null,
      "metadata": {
        "id": "dteUP39knydd"
      },
      "outputs": [],
      "source": [
        "df_month=df_shows.groupby(['month_added']).agg({\"title\":\"nunique\"}).reset_index()\n",
        "sns.lineplot(data=df_month, x='month_added', y='title')\n",
        "plt.ylabel(\"TV Shows Released in the Month\")\n",
        "plt.xlabel(\"Month\")\n",
        "plt.show()"
      ]
    },
    {
      "cell_type": "code",
      "execution_count": null,
      "metadata": {
        "id": "TSZH3oO6nyde"
      },
      "outputs": [],
      "source": [
        "df_month=df_movies.groupby(['month_added']).agg({\"title\":\"nunique\"}).reset_index()\n",
        "sns.lineplot(data=df_month, x='month_added', y='title')\n",
        "plt.ylabel(\"Movies Released in the Month\")\n",
        "plt.xlabel(\"Month\")\n",
        "plt.show()"
      ]
    },
    {
      "cell_type": "markdown",
      "metadata": {
        "id": "SiMi-2yi35NK"
      },
      "source": [
        "TV Shows are added in Netflix by a tremendous amount in mid weeks/months of the year, i.e- July\n",
        "\n",
        "Movies are added in Netflix by a tremendous amount in first week/last month of current year and first month of next year"
      ]
    },
    {
      "cell_type": "code",
      "execution_count": null,
      "metadata": {
        "id": "jvsbYuhd_fbR"
      },
      "outputs": [],
      "source": [
        "df_release_year=df_movies[df_movies['release_year']>=1980].groupby(['release_year']).agg({\"title\":\"nunique\"}).reset_index()\n",
        "sns.lineplot(data=df_release_year, x='release_year', y='title')\n",
        "plt.ylabel(\"Movies Actual Release Date\")\n",
        "plt.xlabel(\"Year\")\n",
        "plt.show()"
      ]
    },
    {
      "cell_type": "code",
      "execution_count": null,
      "metadata": {
        "id": "3-C7s68r_hJS"
      },
      "outputs": [],
      "source": [
        "df_release_year=df_movies[df_movies['release_year']>=1980].groupby(['release_year']).agg({\"title\":\"nunique\"}).reset_index()\n",
        "sns.lineplot(data=df_release_year, x='release_year', y='title')\n",
        "plt.ylabel(\"Movies Actual Release Date\")\n",
        "plt.xlabel(\"Year\")\n",
        "plt.show()"
      ]
    },
    {
      "cell_type": "markdown",
      "metadata": {
        "id": "D905shIk_fsl"
      },
      "source": [
        "Actual Releases of both TV Shows and Movies have taken a hit after 2020"
      ]
    },
    {
      "cell_type": "markdown",
      "metadata": {
        "id": "vnP4ghRW4SxX"
      },
      "source": [
        "## Questions to be Explored Now for Recommendations"
      ]
    },
    {
      "cell_type": "markdown",
      "metadata": {
        "id": "9E_fpL2T8Tpm"
      },
      "source": [
        "1) So this time, the granularity level is country  and analysis of TV Shows/Movies the country brings. I am going to consider only the top countries individually for TV Shows and Movies. There are definitely some common countries too which bring out quality content in both TV Shows and Movies.\n",
        "\n",
        "2) Which Genres do these countries offer and what are the intended audiences(Ratings) which are popular in Netflix?\n",
        "\n",
        "3)In case of Movies, what is the duration/length of movies which makes them special and depicts attention span?\n",
        "\n",
        "4)Who are the popular actors/directors across TV Shows and Movies in these countries?\n",
        "\n",
        "5)In what time of the year, people tend to watch movies and shows in these countries?\n",
        "\n",
        "6)Popular Actor and Director Combinations in these countries"
      ]
    },
    {
      "cell_type": "code",
      "execution_count": null,
      "metadata": {
        "id": "qC0ZFhfknyde"
      },
      "outputs": [],
      "source": [
        "#below countries will be analyzed for both shows and movies\n",
        "shows_and_movies=['United States','India','United Kingdom']\n",
        "#below countries will be only analyzed on basis of shows\n",
        "only_shows=['Japan','South Korea']"
      ]
    },
    {
      "cell_type": "markdown",
      "metadata": {
        "id": "IWgczBL0B3Ul"
      },
      "source": [
        "#### Univariate Analysis separately for shows and movies in USA\n",
        "---\n",
        "\n"
      ]
    },
    {
      "cell_type": "code",
      "execution_count": null,
      "metadata": {
        "id": "BFdtWD1nB3Um"
      },
      "outputs": [],
      "source": [
        "#Analyzing USA for both shows and movies\n",
        "df_usa_shows=df_final1[df_final1['country']=='United States'][df_final1[df_final1['country']=='United States']['type']=='TV Show']\n",
        "df_usa_movies=df_final1[df_final1['country']=='United States'][df_final1[df_final1['country']=='United States']['type']=='Movie']"
      ]
    },
    {
      "cell_type": "code",
      "execution_count": null,
      "metadata": {
        "id": "bNGm1wl4B3Un"
      },
      "outputs": [],
      "source": [
        "df_genre=df_usa_shows.groupby(['Genre']).agg({\"title\":\"nunique\"}).reset_index().sort_values(by=['title'],ascending=False)[:15]\n",
        "plt.figure(figsize=(15,8))\n",
        "plt.barh(df_genre[::-1]['Genre'], df_genre[::-1]['title'],color=['orange'])\n",
        "plt.xlabel('Frequency of Genres')\n",
        "plt.ylabel('Genres')\n",
        "plt.show()"
      ]
    },
    {
      "cell_type": "markdown",
      "metadata": {
        "id": "dKb1Y82vB3Uo"
      },
      "source": [
        "Dramas,Comedy, Kids 'TV Shows, International TV Shows and Docuseries, Genres are popular in TV Series in USA"
      ]
    },
    {
      "cell_type": "code",
      "execution_count": null,
      "metadata": {
        "id": "JVychM4NB3Up"
      },
      "outputs": [],
      "source": [
        "df_genre=df_usa_movies.groupby(['Genre']).agg({\"title\":\"nunique\"}).reset_index().sort_values(by=['title'],ascending=False)[:15]\n",
        "plt.figure(figsize=(15,8))\n",
        "plt.barh(df_genre[::-1]['Genre'], df_genre[::-1]['title'],color=['orange'])\n",
        "plt.xlabel('Frequency of Genres')\n",
        "plt.ylabel('Genres')\n",
        "plt.show()"
      ]
    },
    {
      "cell_type": "markdown",
      "metadata": {
        "id": "QGMncO2tB3Up"
      },
      "source": [
        "Dramas,Comedy, Documentaries, Family Movies and Action Genres in Movies are popular in USA"
      ]
    },
    {
      "cell_type": "code",
      "execution_count": null,
      "metadata": {
        "id": "hyh6JAhKB3Ur"
      },
      "outputs": [],
      "source": [
        "df_rating=df_usa_shows.groupby(['rating']).agg({\"title\":\"nunique\"}).reset_index().sort_values(by=['title'],ascending=False)[:15]\n",
        "plt.figure(figsize=(15,8))\n",
        "plt.barh(df_rating[::-1]['rating'], df_rating[::-1]['title'],color=['violet'])\n",
        "plt.xlabel('Frequency by Ratings')\n",
        "plt.ylabel('Ratings')\n",
        "plt.show()"
      ]
    },
    {
      "cell_type": "code",
      "execution_count": null,
      "metadata": {
        "id": "J4K9WBBWB3Us"
      },
      "outputs": [],
      "source": [
        "df_rating=df_usa_movies.groupby(['rating']).agg({\"title\":\"nunique\"}).reset_index().sort_values(by=['title'],ascending=False)[:15]\n",
        "plt.figure(figsize=(15,8))\n",
        "plt.barh(df_rating[::-1]['rating'], df_rating[::-1]['title'],color=['violet'])\n",
        "plt.xlabel('Frequency by Ratings')\n",
        "plt.ylabel('Ratings')\n",
        "plt.show()"
      ]
    },
    {
      "cell_type": "markdown",
      "metadata": {
        "id": "Wrrg1VRTB3Ut"
      },
      "source": [
        "So it seems plaussible to conclude that the popular ratings across Netflix includes Mature Audiences and those appropriate for over 14/over 17 ages in both Movies and TV Shows in USA\n"
      ]
    },
    {
      "cell_type": "code",
      "execution_count": null,
      "metadata": {
        "id": "ctQY-9G1B3Uu"
      },
      "outputs": [],
      "source": [
        "df_duration=df_usa_movies.groupby(['duration']).agg({\"title\":\"nunique\"}).reset_index().sort_values(by=['title'],ascending=False)[:10]\n",
        "plt.figure(figsize=(15,8))\n",
        "plt.barh(df_duration[::-1]['duration'], df_duration[::-1]['title'],color=['pink'])\n",
        "plt.xlabel('Frequency by Duration')\n",
        "plt.ylabel('Duration')\n",
        "plt.show()"
      ]
    },
    {
      "cell_type": "markdown",
      "metadata": {
        "id": "yJ_1T_e6B3Uv"
      },
      "source": [
        "Across movies 80-100,100-120 is the ranges of minutes for which most movies lie. So quite possibly 80-120 mins is the sweet spot we would be wanting for movies in USA"
      ]
    },
    {
      "cell_type": "code",
      "execution_count": null,
      "metadata": {
        "id": "CMyQ9__6B3Uw"
      },
      "outputs": [],
      "source": [
        "df_actors=df_usa_shows.groupby(['Actors']).agg({\"title\":\"nunique\"}).reset_index().sort_values(by=['title'],ascending=False)[:10]\n",
        "df_actors=df_actors[df_actors['Actors']!='Unknown Actor']\n",
        "plt.figure(figsize=(15,8))\n",
        "plt.barh(df_actors[::-1]['Actors'], df_actors[::-1]['title'],color=['indigo'])\n",
        "plt.xlabel('Number of Shows')\n",
        "plt.ylabel('Popular Actors')\n",
        "plt.show()"
      ]
    },
    {
      "cell_type": "markdown",
      "metadata": {
        "id": "CzVWv1NQB3Uw"
      },
      "source": [
        "Vincent Tong,Grey Griffin and Kevin Richardson are the most popular actors across TV Shows in USA"
      ]
    },
    {
      "cell_type": "code",
      "execution_count": null,
      "metadata": {
        "id": "BdFf0ab-B3Ux"
      },
      "outputs": [],
      "source": [
        "df_actors=df_usa_movies.groupby(['Actors']).agg({\"title\":\"nunique\"}).reset_index().sort_values(by=['title'],ascending=False)[:15]\n",
        "df_actors=df_actors[df_actors['Actors']!='Unknown Actor']\n",
        "plt.figure(figsize=(15,8))\n",
        "plt.barh(df_actors[::-1]['Actors'], df_actors[::-1]['title'],color=['indigo'])\n",
        "plt.xlabel('Number of Movies')\n",
        "plt.ylabel('Popular Actors')\n",
        "plt.show()"
      ]
    },
    {
      "cell_type": "markdown",
      "metadata": {
        "id": "UdQEfQqSB3Ux"
      },
      "source": [
        "Samuel Jackson,Adam Sandler,James Franco and Nicolas Cage are very much popular across movies on Netflix in USA"
      ]
    },
    {
      "cell_type": "code",
      "execution_count": null,
      "metadata": {
        "id": "pOBRNGmEB3Uy"
      },
      "outputs": [],
      "source": [
        "df_directors=df_usa_shows.groupby(['Directors']).agg({\"title\":\"nunique\"}).reset_index().sort_values(by=['title'],ascending=False)[:10]\n",
        "df_directors=df_directors[df_directors['Directors']!='Unknown Director']\n",
        "plt.figure(figsize=(15,8))\n",
        "plt.barh(df_directors[::-1]['Directors'], df_directors[::-1]['title'],color=['indigo'])\n",
        "plt.xlabel('Number of Movies')\n",
        "plt.ylabel('Popular Directors')\n",
        "plt.show()"
      ]
    },
    {
      "cell_type": "markdown",
      "metadata": {
        "id": "6dQdOrCfB3Uz"
      },
      "source": [
        "Ken Burns,Stan Lathan, Joe Barlinger are popular directors across TV Shows on Netflix in USA"
      ]
    },
    {
      "cell_type": "code",
      "execution_count": null,
      "metadata": {
        "id": "Knj0dTmWB3Uz"
      },
      "outputs": [],
      "source": [
        "df_directors=df_usa_movies.groupby(['Directors']).agg({\"title\":\"nunique\"}).reset_index().sort_values(by=['title'],ascending=False)[:15]\n",
        "df_directors=df_directors[df_directors['Directors']!='Unknown Director']\n",
        "plt.figure(figsize=(15,8))\n",
        "plt.barh(df_directors[::-1]['Directors'], df_directors[::-1]['title'],color=['indigo'])\n",
        "plt.xlabel('Number of Movies')\n",
        "plt.ylabel('Popular Directors')\n",
        "plt.show()"
      ]
    },
    {
      "cell_type": "markdown",
      "metadata": {
        "id": "0jEwz44iB3U0"
      },
      "source": [
        "Jay Karas,Marcus Raboy,Martin Scorcese and Jay Chapman are popular directors across movies in USA"
      ]
    },
    {
      "cell_type": "code",
      "execution_count": null,
      "metadata": {
        "id": "js1sn0gT5QvF"
      },
      "outputs": [],
      "source": [
        "df_year=df_usa_shows.groupby(['year']).agg({\"title\":\"nunique\"}).reset_index()\n",
        "sns.lineplot(data=df_year, x='year', y='title')\n",
        "plt.ylabel(\"Shows Released in the Year\")\n",
        "plt.xlabel(\"Year\")\n",
        "plt.show()"
      ]
    },
    {
      "cell_type": "code",
      "execution_count": null,
      "metadata": {
        "id": "7SDHIAgn5ZRe"
      },
      "outputs": [],
      "source": [
        "df_year=df_usa_movies.groupby(['year']).agg({\"title\":\"nunique\"}).reset_index()\n",
        "sns.lineplot(data=df_year, x='year', y='title')\n",
        "plt.ylabel(\"Shows Released in the Year\")\n",
        "plt.xlabel(\"Year\")\n",
        "plt.show()"
      ]
    },
    {
      "cell_type": "markdown",
      "metadata": {
        "id": "MfKIgWjd5gAh"
      },
      "source": [
        "In USA, number of shows remained the same in 2021 as they were in 2020 while number of movies declined:"
      ]
    },
    {
      "cell_type": "code",
      "execution_count": null,
      "metadata": {
        "id": "TMagpxxtB3U2"
      },
      "outputs": [],
      "source": [
        "df_week=df_usa_shows.groupby(['week_Added']).agg({\"title\":\"nunique\"}).reset_index()\n",
        "plt.figure(figsize=(15,8))\n",
        "sns.lineplot(data=df_week, x='week_Added', y='title')\n",
        "plt.ylabel(\"Movies Released in the Week\")\n",
        "plt.xlabel(\"Week No.\")\n",
        "plt.show()"
      ]
    },
    {
      "cell_type": "code",
      "execution_count": null,
      "metadata": {
        "id": "p0HWgNIwB3U2"
      },
      "outputs": [],
      "source": [
        "df_week=df_usa_movies.groupby(['week_Added']).agg({\"title\":\"nunique\"}).reset_index()\n",
        "plt.figure(figsize=(15,8))\n",
        "sns.lineplot(data=df_week, x='week_Added', y='title')\n",
        "plt.ylabel(\"Movies Released in the Week\")\n",
        "plt.xlabel(\"Week No.\")\n",
        "plt.show()"
      ]
    },
    {
      "cell_type": "code",
      "execution_count": null,
      "metadata": {
        "id": "QGyiNmN1B3U3"
      },
      "outputs": [],
      "source": [
        "df_month=df_usa_shows.groupby(['month_added']).agg({\"title\":\"nunique\"}).reset_index()\n",
        "sns.lineplot(data=df_month, x='month_added', y='title')\n",
        "plt.ylabel(\"TV Shows Released in the Month\")\n",
        "plt.xlabel(\"Month\")\n",
        "plt.show()"
      ]
    },
    {
      "cell_type": "code",
      "execution_count": null,
      "metadata": {
        "id": "izEcXo9rB3U3"
      },
      "outputs": [],
      "source": [
        "df_month=df_usa_movies.groupby(['month_added']).agg({\"title\":\"nunique\"}).reset_index()\n",
        "sns.lineplot(data=df_month, x='month_added', y='title')\n",
        "plt.ylabel(\"Movies Released in the Month\")\n",
        "plt.xlabel(\"Month\")\n",
        "plt.show()"
      ]
    },
    {
      "cell_type": "markdown",
      "metadata": {
        "id": "Auxwh9pqB3U3"
      },
      "source": [
        "TV Shows are added in Netflix by a tremendous amount in July and September in USA\n",
        "\n",
        "Movies are added in Netflix in USA by a tremendous amount in first week/last month of current year and first month of next year"
      ]
    },
    {
      "cell_type": "code",
      "execution_count": null,
      "metadata": {
        "id": "50YR_E0i_2ot"
      },
      "outputs": [],
      "source": [
        "df_release_year=df_usa_movies[df_usa_movies['release_year']>=1980].groupby(['release_year']).agg({\"title\":\"nunique\"}).reset_index()\n",
        "sns.lineplot(data=df_release_year, x='release_year', y='title')\n",
        "plt.ylabel(\"Movies Actual Release Date\")\n",
        "plt.xlabel(\"Year\")\n",
        "plt.show()"
      ]
    },
    {
      "cell_type": "code",
      "execution_count": null,
      "metadata": {
        "id": "PzKrpVQx_3gW"
      },
      "outputs": [],
      "source": [
        "df_release_year=df_usa_shows[df_usa_shows['release_year']>=1980].groupby(['release_year']).agg({\"title\":\"nunique\"}).reset_index()\n",
        "sns.lineplot(data=df_release_year, x='release_year', y='title')\n",
        "plt.ylabel(\"Movies Actual Release Date\")\n",
        "plt.xlabel(\"Year\")\n",
        "plt.show()"
      ]
    },
    {
      "cell_type": "markdown",
      "metadata": {
        "id": "Ppl-tRNY_3zL"
      },
      "source": [
        "In USA, though both Movies and Shows have reduced in 2021, the amount of decrease in number of TV Shows is small as compared to Movies"
      ]
    },
    {
      "cell_type": "code",
      "execution_count": null,
      "metadata": {
        "id": "q_1kouYyK-2u"
      },
      "outputs": [],
      "source": [
        "df_usa_movies.head()"
      ]
    },
    {
      "cell_type": "code",
      "execution_count": null,
      "metadata": {
        "id": "t9Gs30gMnydf"
      },
      "outputs": [],
      "source": [
        "#Analysing a combination of actors and directors\n",
        "df_usa_movies['Actor_Director_Combination'] = df_usa_movies.Actors.str.cat(df_usa_movies.Directors, sep=' and ')\n",
        "df_usa_movies_subset=df_usa_movies[df_usa_movies['Actors']!='Unknown Actor']\n",
        "df_usa_movies_subset=df_usa_movies_subset[df_usa_movies_subset['Directors']!='Unknown Director']\n",
        "df_usa_movies_subset.head()"
      ]
    },
    {
      "cell_type": "code",
      "execution_count": null,
      "metadata": {
        "id": "Obz6hYsvnydf"
      },
      "outputs": [],
      "source": [
        "df_usa_shows['Actor_Director_Combination'] = df_usa_shows.Actors.str.cat(df_usa_shows.Directors, sep=' and ')\n",
        "df_usa_shows_subset=df_usa_shows[df_usa_shows['Actors']!='Unknown Actor']\n",
        "df_usa_shows_subset=df_usa_shows_subset[df_usa_shows_subset['Directors']!='Unknown Director']\n",
        "df_usa_shows_subset.head()"
      ]
    },
    {
      "cell_type": "code",
      "execution_count": null,
      "metadata": {
        "id": "e6J_itdUzU-s"
      },
      "outputs": [],
      "source": [
        "df_actors_directors=df_usa_shows_subset.groupby(['Actor_Director_Combination']).agg({\"title\":\"nunique\"}).reset_index().sort_values(by=['title'],ascending=False)[:15]\n",
        "plt.figure(figsize=(15,8))\n",
        "plt.barh(df_actors_directors[::-1]['Actor_Director_Combination'], df_actors_directors[::-1]['title'],color=['indigo'])\n",
        "plt.xlabel('Number of Shows')\n",
        "plt.ylabel('Popular Actor-Director Combination')\n",
        "plt.show()"
      ]
    },
    {
      "cell_type": "code",
      "execution_count": null,
      "metadata": {
        "id": "Al4nBJAczVBM"
      },
      "outputs": [],
      "source": [
        "df_actors_directors=df_usa_movies_subset.groupby(['Actor_Director_Combination']).agg({\"title\":\"nunique\"}).reset_index().sort_values(by=['title'],ascending=False)[:20]\n",
        "plt.figure(figsize=(15,8))\n",
        "plt.barh(df_actors_directors[::-1]['Actor_Director_Combination'], df_actors_directors[::-1]['title'],color=['indigo'])\n",
        "plt.xlabel('Number of Movies')\n",
        "plt.ylabel('Popular Actor-Director Combination')\n",
        "plt.show()"
      ]
    },
    {
      "cell_type": "code",
      "execution_count": null,
      "metadata": {
        "id": "jSrLpeUtzVEh"
      },
      "outputs": [],
      "source": [
        "df_actors_directors[::-1]['Actor_Director_Combination'].values"
      ]
    },
    {
      "cell_type": "markdown",
      "metadata": {
        "id": "woq8CHZDMb5T"
      },
      "source": [
        "**The Most Popular Actor Director Combination in Movies Across USA are:-**\n",
        "\n",
        "'Smith Foreman and Stanley Moore',\n",
        "<br>\n",
        "'Marlon Wayans and Michael Tiddes', \n",
        "<br>\n",
        "'Adam Sandler and Steve Brill',\n",
        "<br>\n",
        "'Maisie Benson and Stanley Moore',\n",
        "<br>\n",
        "'Ashleigh Ball and Ishi Rudell',\n",
        "<br>\n",
        "'Tara Strong and Ishi Rudell',\n",
        "<br> \n",
        "'Rebecca Shoichet and Ishi Rudell',\n",
        "<br>\n",
        "'Kerry Gudjohnsen and Alex Woo',\n",
        "<br>\n",
        "'Kerry Gudjohnsen and Stanley Moore',\n",
        "<br> \n",
        "'Paul Killam and Alex Woo',\n",
        "<br>\n",
        "'Paul Killam and Stanley Moore',\n",
        "<br> \n",
        "'Andrea Libman and Ishi Rudell',\n",
        "<br>\n",
        "'Kevin Hart and Leslie Small', \n",
        "<br>\n",
        "'Maisie Benson and Alex Woo',\n",
        "<br>\n",
        "'Alexa PenaVega and Robert Rodriguez',\n",
        "<br>\n",
        "'Tabitha St. Germain and Ishi Rudell'\n",
        "\n",
        "\n",
        "\n",
        "\n",
        "\n",
        "\n",
        "\n",
        "**The Second Most Popular Actor Director Combination in Movies Across USA are:-**\n",
        "<br>\n",
        "'Rory Markham and Mike Gunther', \n",
        "<br>\n",
        "'Erin Mathews and Steve Ball',\n",
        "<br>\n",
        "'Danny Trejo and Robert Rodriguez',\n",
        "<br>\n",
        "'Jeff Dunham and Michael Simon'\n",
        "<br>\n"
      ]
    },
    {
      "cell_type": "markdown",
      "metadata": {
        "id": "YomXsPDaaIgz"
      },
      "source": [
        "#### Univariate Analysis separately for shows and movies in India\n",
        "---\n",
        "\n"
      ]
    },
    {
      "cell_type": "code",
      "execution_count": null,
      "metadata": {
        "id": "1jiF6030aIhA"
      },
      "outputs": [],
      "source": [
        "#Analyzing India for both shows and movies\n",
        "df_india_shows=df_final1[df_final1['country']=='India'][df_final1[df_final1['country']=='India']['type']=='TV Show']\n",
        "df_india_movies=df_final1[df_final1['country']=='India'][df_final1[df_final1['country']=='India']['type']=='Movie']"
      ]
    },
    {
      "cell_type": "code",
      "execution_count": null,
      "metadata": {
        "id": "_Gr0j14MaIhA"
      },
      "outputs": [],
      "source": [
        "df_genre=df_india_shows.groupby(['Genre']).agg({\"title\":\"nunique\"}).reset_index().sort_values(by=['title'],ascending=False)[:15]\n",
        "plt.figure(figsize=(15,8))\n",
        "plt.barh(df_genre[::-1]['Genre'], df_genre[::-1]['title'],color=['orange'])\n",
        "plt.xlabel('Frequency of Genres')\n",
        "plt.ylabel('Genres')\n",
        "plt.show()"
      ]
    },
    {
      "cell_type": "markdown",
      "metadata": {
        "id": "7ViBwa7caIhA"
      },
      "source": [
        "Dramas,Comedy, Kids 'TV Shows and International TV Shows Genres are popular in TV Series in India"
      ]
    },
    {
      "cell_type": "code",
      "execution_count": null,
      "metadata": {
        "id": "jTRf-5wpaIhB"
      },
      "outputs": [],
      "source": [
        "df_genre=df_india_movies.groupby(['Genre']).agg({\"title\":\"nunique\"}).reset_index().sort_values(by=['title'],ascending=False)[:15]\n",
        "plt.figure(figsize=(15,8))\n",
        "plt.barh(df_genre[::-1]['Genre'], df_genre[::-1]['title'],color=['orange'])\n",
        "plt.xlabel('Frequency of Genres')\n",
        "plt.ylabel('Genres')\n",
        "plt.show()"
      ]
    },
    {
      "cell_type": "markdown",
      "metadata": {
        "id": "kHSBDdzmaIhB"
      },
      "source": [
        "International Movies,Drama,Comedy,Indpeendent Movies and Action, Romance Genres are prevalent in India"
      ]
    },
    {
      "cell_type": "code",
      "execution_count": null,
      "metadata": {
        "id": "lH13fWPpaIhB"
      },
      "outputs": [],
      "source": [
        "df_rating=df_india_shows.groupby(['rating']).agg({\"title\":\"nunique\"}).reset_index().sort_values(by=['title'],ascending=False)[:15]\n",
        "plt.figure(figsize=(15,8))\n",
        "plt.barh(df_rating[::-1]['rating'], df_rating[::-1]['title'],color=['violet'])\n",
        "plt.xlabel('Frequency by Ratings')\n",
        "plt.ylabel('Ratings')\n",
        "plt.show()"
      ]
    },
    {
      "cell_type": "code",
      "execution_count": null,
      "metadata": {
        "id": "QIr6C-DUaIhB"
      },
      "outputs": [],
      "source": [
        "df_rating=df_india_movies.groupby(['rating']).agg({\"title\":\"nunique\"}).reset_index().sort_values(by=['title'],ascending=False)[:15]\n",
        "plt.figure(figsize=(15,8))\n",
        "plt.barh(df_rating[::-1]['rating'], df_rating[::-1]['title'],color=['violet'])\n",
        "plt.xlabel('Frequency by Ratings')\n",
        "plt.ylabel('Ratings')\n",
        "plt.show()"
      ]
    },
    {
      "cell_type": "markdown",
      "metadata": {
        "id": "NW8OEAbWaIhB"
      },
      "source": [
        "So it seems plaussible to conclude that the popular ratings across Netflix includes Mature Audiences in TV Shows and those appropriate for people over 14 in Movies in India.\n",
        "\n",
        "Now this indeed seems to be the case. Indian TV Shows in Netflix are without a shadow of doubt intended for Mature Audiences while Movies for over 14 years of age."
      ]
    },
    {
      "cell_type": "code",
      "execution_count": null,
      "metadata": {
        "id": "2Il1f0MIaIhC"
      },
      "outputs": [],
      "source": [
        "df_duration=df_india_movies.groupby(['duration']).agg({\"title\":\"nunique\"}).reset_index().sort_values(by=['title'],ascending=False)[:10]\n",
        "plt.figure(figsize=(15,8))\n",
        "plt.barh(df_duration[::-1]['duration'], df_duration[::-1]['title'],color=['pink'])\n",
        "plt.xlabel('Frequency by Duration')\n",
        "plt.ylabel('Duration')\n",
        "plt.show()"
      ]
    },
    {
      "cell_type": "markdown",
      "metadata": {
        "id": "0-c2MnlbaIhC"
      },
      "source": [
        "Across movies ranges of minutes in India are comparatively greater than USA with a sweet spot at 120-150 mins."
      ]
    },
    {
      "cell_type": "code",
      "execution_count": null,
      "metadata": {
        "id": "SGIrgrpBaIhC"
      },
      "outputs": [],
      "source": [
        "df_actors=df_india_shows.groupby(['Actors']).agg({\"title\":\"nunique\"}).reset_index().sort_values(by=['title'],ascending=False)[:10]\n",
        "df_actors=df_actors[df_actors['Actors']!='Unknown Actor']\n",
        "plt.figure(figsize=(15,8))\n",
        "plt.barh(df_actors[::-1]['Actors'], df_actors[::-1]['title'],color=['indigo'])\n",
        "plt.xlabel('Number of Shows')\n",
        "plt.ylabel('Popular Actors')\n",
        "plt.show()"
      ]
    },
    {
      "cell_type": "code",
      "execution_count": null,
      "metadata": {
        "id": "meaybIvNcbPf"
      },
      "outputs": [],
      "source": [
        "df_actors['Actors'].values"
      ]
    },
    {
      "cell_type": "markdown",
      "metadata": {
        "id": "AeyK0e99aIhC"
      },
      "source": [
        "**Popular Actors in TV Shows in India are:-**\n",
        "<br>\n",
        "'Rajesh Kava', \n",
        "<br>\n",
        "'Nishka Raheja',\n",
        "<br>\n",
        "'Prakash Raj', \n",
        "<br>\n",
        "'Sabina Malik',\n",
        "<br>\n",
        "'Anjali', \n",
        "<br>\n",
        "'Aranya Kaur',\n",
        "<br> \n",
        "'Sonal Kaushal',\n",
        "<br>\n",
        "'Chandan Anand',\n",
        "<br>\n",
        "'Danish Husain'"
      ]
    },
    {
      "cell_type": "code",
      "execution_count": null,
      "metadata": {
        "id": "szO7AuK-aIhC"
      },
      "outputs": [],
      "source": [
        "df_actors=df_india_movies.groupby(['Actors']).agg({\"title\":\"nunique\"}).reset_index().sort_values(by=['title'],ascending=False)[:15]\n",
        "df_actors=df_actors[df_actors['Actors']!='Unknown Actor']\n",
        "plt.figure(figsize=(15,8))\n",
        "plt.barh(df_actors[::-1]['Actors'], df_actors[::-1]['title'],color=['indigo'])\n",
        "plt.xlabel('Number of Movies')\n",
        "plt.ylabel('Popular Actors')\n",
        "plt.show()"
      ]
    },
    {
      "cell_type": "code",
      "execution_count": null,
      "metadata": {
        "id": "cmHkOZcJdDIk"
      },
      "outputs": [],
      "source": [
        "df_actors['Actors'].values"
      ]
    },
    {
      "cell_type": "markdown",
      "metadata": {
        "id": "zahVBLxmaIhC"
      },
      "source": [
        "**Popular actors across Movies in India:-**\n",
        "<br>\n",
        "'Anupam Kher',\n",
        "<br>\n",
        "'Shah Rukh Khan',\n",
        "<br> \n",
        "'Naseeruddin Shah',\n",
        "<br>\n",
        "'Akshay Kumar',\n",
        "<br>\n",
        "'Om Puri', \n",
        "<br>\n",
        "'Paresh Rawal',\n",
        "<br>\n",
        "'Julie Tejwani',\n",
        "<br>\n",
        "'Amitabh Bachchan',\n",
        "<br>\n",
        "'Boman Irani',\n",
        "<br>\n",
        "'Rupa Bhimani',\n",
        "<br>\n",
        "'Kareena Kapoor',\n",
        "<br>\n",
        "'Ajay Devgn', \n",
        "<br>\n",
        "'Rajesh Kava',\n",
        "<br>\n",
        "'Kay Kay Menon'"
      ]
    },
    {
      "cell_type": "code",
      "execution_count": null,
      "metadata": {
        "id": "Bv6DLHkQaIhD"
      },
      "outputs": [],
      "source": [
        "df_directors=df_india_shows.groupby(['Directors']).agg({\"title\":\"nunique\"}).reset_index().sort_values(by=['title'],ascending=False)[:10]\n",
        "df_directors=df_directors[df_directors['Directors']!='Unknown Director']\n",
        "plt.figure(figsize=(15,8))\n",
        "plt.barh(df_directors[::-1]['Directors'], df_directors[::-1]['title'],color=['indigo'])\n",
        "plt.xlabel('Number of Movies')\n",
        "plt.ylabel('Popular Directors')\n",
        "plt.show()"
      ]
    },
    {
      "cell_type": "code",
      "execution_count": null,
      "metadata": {
        "id": "DTIvt3L3duDp"
      },
      "outputs": [],
      "source": [
        "df_directors['Directors'].values"
      ]
    },
    {
      "cell_type": "markdown",
      "metadata": {
        "id": "-G08KF8taIhD"
      },
      "source": [
        "**Popular Directors Across Movies in India:-**\n",
        "<br>\n",
        "'Gautham Vasudev Menon',\n",
        "<br>\n",
        "'Abhishek Chaubey',\n",
        "<br>\n",
        "'Sudha Kongara',\n",
        "<br>\n",
        "'Rathindran R Prasad',\n",
        "<br>\n",
        "'Sankalp Reddy',\n",
        "<br>\n",
        "'Sarjun',\n",
        "<br>\n",
        "'Soumendra Padhi',\n",
        "<br>\n",
        "'Srijit Mukherji',\n",
        "<br>\n",
        "'Tharun Bhascker Dhaassyam'"
      ]
    },
    {
      "cell_type": "code",
      "execution_count": null,
      "metadata": {
        "id": "Bdh8TeHkaIhD"
      },
      "outputs": [],
      "source": [
        "df_directors=df_india_movies.groupby(['Directors']).agg({\"title\":\"nunique\"}).reset_index().sort_values(by=['title'],ascending=False)[:15]\n",
        "df_directors=df_directors[df_directors['Directors']!='Unknown Director']\n",
        "plt.figure(figsize=(15,8))\n",
        "plt.barh(df_directors[::-1]['Directors'], df_directors[::-1]['title'],color=['indigo'])\n",
        "plt.xlabel('Number of Movies')\n",
        "plt.ylabel('Popular Directors')\n",
        "plt.show()"
      ]
    },
    {
      "cell_type": "code",
      "execution_count": null,
      "metadata": {
        "id": "daCsDiy8eSce"
      },
      "outputs": [],
      "source": [
        "df_directors['Directors'].values"
      ]
    },
    {
      "cell_type": "markdown",
      "metadata": {
        "id": "CEWwHQUVaIhD"
      },
      "source": [
        "**Popular directors across movies in India:-**\n",
        "<br>\n",
        "'Rajiv Chilaka',\n",
        "<br>\n",
        "'Suhas Kadav',\n",
        "<br>\n",
        "'David Dhawan',\n",
        "<br>\n",
        "'Umesh Mehra',\n",
        "<br>\n",
        "'Anurag Kashyap',\n",
        "<br>\n",
        "'Ram Gopal Varma',\n",
        "<br>\n",
        "'Dibakar Banerjee',\n",
        "<br>\n",
        "'Zoya Akhtar',\n",
        "<br>\n",
        "'Tilak Shetty',\n",
        "<br>\n",
        "'Rajkumar Santoshi',\n",
        "<br>\n",
        "'Priyadarshan',\n",
        "<br>\n",
        "'Sooraj R. Barjatya',\n",
        "<br>\n",
        "'Ashutosh Gowariker',\n",
        "<br>\n",
        "'Milan Luthria'"
      ]
    },
    {
      "cell_type": "code",
      "execution_count": null,
      "metadata": {
        "id": "WCdjx7Sh7BFq"
      },
      "outputs": [],
      "source": [
        "df_year=df_india_shows.groupby(['year']).agg({\"title\":\"nunique\"}).reset_index()\n",
        "sns.lineplot(data=df_year, x='year', y='title')\n",
        "plt.ylabel(\"Shows Released in the Year\")\n",
        "plt.xlabel(\"Year\")\n",
        "plt.show()"
      ]
    },
    {
      "cell_type": "code",
      "execution_count": null,
      "metadata": {
        "id": "rvIf11IW7BI-"
      },
      "outputs": [],
      "source": [
        "df_year=df_india_movies.groupby(['year']).agg({\"title\":\"nunique\"}).reset_index()\n",
        "sns.lineplot(data=df_year, x='year', y='title')\n",
        "plt.ylabel(\"Movies Released in the Year\")\n",
        "plt.xlabel(\"Year\")\n",
        "plt.show()"
      ]
    },
    {
      "cell_type": "markdown",
      "metadata": {
        "id": "-H_LRlQ-7Bg-"
      },
      "source": [
        "In India,TV Shows were increasingly being added till 2020, though the addition of shows reduced in 2021.\n",
        "\n",
        "In India, Movies were increasingly added till 2018 but it has been a huge downhill since then. Now that's preposterous, since and soemthing has to be recommended to the Netflix Team with regards to that."
      ]
    },
    {
      "cell_type": "code",
      "execution_count": null,
      "metadata": {
        "id": "_u5a3SzaaIhD"
      },
      "outputs": [],
      "source": [
        "df_week=df_india_shows.groupby(['week_Added']).agg({\"title\":\"nunique\"}).reset_index()\n",
        "plt.figure(figsize=(15,8))\n",
        "sns.lineplot(data=df_week, x='week_Added', y='title')\n",
        "plt.ylabel(\"Movies Released in the Week\")\n",
        "plt.xlabel(\"Week No.\")\n",
        "plt.show()"
      ]
    },
    {
      "cell_type": "code",
      "execution_count": null,
      "metadata": {
        "id": "bAwDsdFXaIhE"
      },
      "outputs": [],
      "source": [
        "df_week=df_india_movies.groupby(['week_Added']).agg({\"title\":\"nunique\"}).reset_index()\n",
        "plt.figure(figsize=(15,8))\n",
        "sns.lineplot(data=df_week, x='week_Added', y='title')\n",
        "plt.ylabel(\"Movies Released in the Week\")\n",
        "plt.xlabel(\"Week No.\")\n",
        "plt.show()"
      ]
    },
    {
      "cell_type": "code",
      "execution_count": null,
      "metadata": {
        "id": "52kgj80vaIhE"
      },
      "outputs": [],
      "source": [
        "df_month=df_india_shows.groupby(['month_added']).agg({\"title\":\"nunique\"}).reset_index()\n",
        "sns.lineplot(data=df_month, x='month_added', y='title')\n",
        "plt.ylabel(\"TV Shows Released in the Month\")\n",
        "plt.xlabel(\"Month\")\n",
        "plt.show()"
      ]
    },
    {
      "cell_type": "code",
      "execution_count": null,
      "metadata": {
        "id": "eWmgq9hAaIhE"
      },
      "outputs": [],
      "source": [
        "df_month=df_india_movies.groupby(['month_added']).agg({\"title\":\"nunique\"}).reset_index()\n",
        "sns.lineplot(data=df_month, x='month_added', y='title')\n",
        "plt.ylabel(\"Movies Released in the Month\")\n",
        "plt.xlabel(\"Month\")\n",
        "plt.show()"
      ]
    },
    {
      "cell_type": "markdown",
      "metadata": {
        "id": "aQ6HF6-iaIhE"
      },
      "source": [
        "TV Shows are added in Netflix by a tremendous amount in April in India\n",
        "\n",
        "Movies are added in Netflix in India by a tremendous amount in first week/last month of current year and first month of next year"
      ]
    },
    {
      "cell_type": "code",
      "execution_count": null,
      "metadata": {
        "id": "oIVgFTdLE7KC"
      },
      "outputs": [],
      "source": [
        "df_release_year=df_india_movies[df_india_movies['release_year']>=1980].groupby(['release_year']).agg({\"title\":\"nunique\"}).reset_index()\n",
        "sns.lineplot(data=df_release_year, x='release_year', y='title')\n",
        "plt.ylabel(\"Movies Actual Release Date\")\n",
        "plt.xlabel(\"Year\")\n",
        "plt.show()"
      ]
    },
    {
      "cell_type": "code",
      "execution_count": null,
      "metadata": {
        "id": "lQvkGEXcE7RX"
      },
      "outputs": [],
      "source": [
        "df_release_year=df_india_shows[df_india_shows['release_year']>=1980].groupby(['release_year']).agg({\"title\":\"nunique\"}).reset_index()\n",
        "sns.lineplot(data=df_release_year, x='release_year', y='title')\n",
        "plt.ylabel(\"Movies Actual Release Date\")\n",
        "plt.xlabel(\"Year\")\n",
        "plt.show()"
      ]
    },
    {
      "cell_type": "markdown",
      "metadata": {
        "id": "bVeBOsY8E7wH"
      },
      "source": [
        "The understandable trend amongs movies and TV Shows across India in Netflix is the reduction of movies after 2020"
      ]
    },
    {
      "cell_type": "code",
      "execution_count": null,
      "metadata": {
        "id": "qtyCROeXaIhF"
      },
      "outputs": [],
      "source": [
        "#Analysing a combination of actors and directors\n",
        "df_india_movies['Actor_Director_Combination'] = df_india_movies.Actors.str.cat(df_india_movies.Directors, sep=' and ')\n",
        "df_india_movies_subset=df_india_movies[df_india_movies['Actors']!='Unknown Actor']\n",
        "df_india_movies_subset=df_india_movies_subset[df_india_movies_subset['Directors']!='Unknown Director']\n",
        "df_india_movies_subset.head()"
      ]
    },
    {
      "cell_type": "code",
      "execution_count": null,
      "metadata": {
        "id": "zufK3rgxaIhF"
      },
      "outputs": [],
      "source": [
        "df_india_shows['Actor_Director_Combination'] = df_india_shows.Actors.str.cat(df_india_shows.Directors, sep=' and ')\n",
        "df_india_shows_subset=df_india_shows[df_india_shows['Actors']!='Unknown Actor']\n",
        "df_india_shows_subset=df_india_shows_subset[df_india_shows_subset['Directors']!='Unknown Director']\n",
        "df_india_shows_subset.head()"
      ]
    },
    {
      "cell_type": "code",
      "execution_count": null,
      "metadata": {
        "id": "ZFhVarRHaIhF"
      },
      "outputs": [],
      "source": [
        "df_actors_directors=df_india_shows_subset.groupby(['Actor_Director_Combination']).agg({\"title\":\"nunique\"}).reset_index().sort_values(by=['title'],ascending=False)[:15]\n",
        "plt.figure(figsize=(15,8))\n",
        "plt.barh(df_actors_directors[::-1]['Actor_Director_Combination'], df_actors_directors[::-1]['title'],color=['indigo'])\n",
        "plt.xlabel('Number of Shows')\n",
        "plt.ylabel('Popular Actor-Director Combination')\n",
        "plt.show()"
      ]
    },
    {
      "cell_type": "code",
      "execution_count": null,
      "metadata": {
        "id": "j0QciGvwaIhF"
      },
      "outputs": [],
      "source": [
        "df_actors_directors=df_india_movies_subset.groupby(['Actor_Director_Combination']).agg({\"title\":\"nunique\"}).reset_index().sort_values(by=['title'],ascending=False)[:15]\n",
        "plt.figure(figsize=(15,8))\n",
        "plt.barh(df_actors_directors[::-1]['Actor_Director_Combination'], df_actors_directors[::-1]['title'],color=['indigo'])\n",
        "plt.xlabel('Number of Movies')\n",
        "plt.ylabel('Popular Actor-Director Combination')\n",
        "plt.show()"
      ]
    },
    {
      "cell_type": "code",
      "execution_count": null,
      "metadata": {
        "id": "cX2dsqyy6h-G"
      },
      "outputs": [],
      "source": [
        "df_india_movies[df_india_movies['Directors']=='Rajiv Chilaka']"
      ]
    },
    {
      "cell_type": "markdown",
      "metadata": {
        "id": "mUgjQMyr8M1f"
      },
      "source": [
        "It seems that Rajiv Chilaka has worked on Chota Bheem and has been able to create some good content in its movies. He can be relied on for more Chota Bheem stories"
      ]
    },
    {
      "cell_type": "code",
      "execution_count": null,
      "metadata": {
        "id": "GwixcwQ8aIhF"
      },
      "outputs": [],
      "source": [
        "df_actors_directors['Actor_Director_Combination'].values"
      ]
    },
    {
      "cell_type": "markdown",
      "metadata": {
        "id": "vRh_p_AiaIhG"
      },
      "source": [
        "**The Most Popular Actor Director Combination in Movies Across India are:-**\n",
        "<br>\n",
        "'Rajesh Kava and Rajiv Chilaka',\n",
        "<br>\n",
        "'Julie Tejwani and Rajiv Chilaka',\n",
        "<br>\n",
        "'Rupa Bhimani and Rajiv Chilaka',\n",
        "<br>\n",
        "'Jigna Bhardwaj and Rajiv Chilaka',\n",
        "<br>\n",
        "'Vatsal Dubey and Rajiv Chilaka',\n",
        "<br>\n",
        "'Mousam and Rajiv Chilaka',\n",
        "<br>\n",
        "'Swapnil and Rajiv Chilaka',\n",
        "<br>\n",
        "'Saurav Chakraborty and Suhas Kadav',\n",
        "<br>\n",
        "'Smita Malhotra and Tilak Shetty',\n",
        "<br>\n",
        "'Anupam Kher and David Dhawan',\n",
        "<br>\n",
        "'Salman Khan and Sooraj R. Barjatya',"
      ]
    },
    {
      "cell_type": "markdown",
      "metadata": {
        "id": "4RK4m2mlmbul"
      },
      "source": [
        "#### Univariate Analysis separately for shows and movies in United Kingdom\n",
        "---\n",
        "\n"
      ]
    },
    {
      "cell_type": "code",
      "execution_count": null,
      "metadata": {
        "id": "1r8SnfYVmbum"
      },
      "outputs": [],
      "source": [
        "#Analyzing India for both shows and movies\n",
        "df_uk_shows=df_final1[df_final1['country']=='United Kingdom'][df_final1[df_final1['country']=='United Kingdom']['type']=='TV Show']\n",
        "df_uk_movies=df_final1[df_final1['country']=='United Kingdom'][df_final1[df_final1['country']=='United Kingdom']['type']=='Movie']"
      ]
    },
    {
      "cell_type": "code",
      "execution_count": null,
      "metadata": {
        "id": "8WlCa7FEmbun"
      },
      "outputs": [],
      "source": [
        "df_genre=df_uk_shows.groupby(['Genre']).agg({\"title\":\"nunique\"}).reset_index().sort_values(by=['title'],ascending=False)[:15]\n",
        "plt.figure(figsize=(15,8))\n",
        "plt.barh(df_genre[::-1]['Genre'], df_genre[::-1]['title'],color=['orange'])\n",
        "plt.xlabel('Frequency of Genres')\n",
        "plt.ylabel('Genres')\n",
        "plt.show()"
      ]
    },
    {
      "cell_type": "markdown",
      "metadata": {
        "id": "xGDnDtQ0mbuo"
      },
      "source": [
        "British TV Shows,International TV Shows,Docuseries, Crime, Comedy are widely watched Genres in TV Shows in UK"
      ]
    },
    {
      "cell_type": "code",
      "execution_count": null,
      "metadata": {
        "id": "nbyzIgaEmbuo"
      },
      "outputs": [],
      "source": [
        "df_genre=df_uk_movies.groupby(['Genre']).agg({\"title\":\"nunique\"}).reset_index().sort_values(by=['title'],ascending=False)[:15]\n",
        "plt.figure(figsize=(15,8))\n",
        "plt.barh(df_genre[::-1]['Genre'], df_genre[::-1]['title'],color=['orange'])\n",
        "plt.xlabel('Frequency of Genres')\n",
        "plt.ylabel('Genres')\n",
        "plt.show()"
      ]
    },
    {
      "cell_type": "markdown",
      "metadata": {
        "id": "lN10CJkCmbup"
      },
      "source": [
        "International Movies,Drama,Comedy,Indpeendent Movies and Action, Romance Genres in Movies are prevalent in UK"
      ]
    },
    {
      "cell_type": "code",
      "execution_count": null,
      "metadata": {
        "id": "oGPOPsM3mbuq"
      },
      "outputs": [],
      "source": [
        "df_rating=df_uk_shows.groupby(['rating']).agg({\"title\":\"nunique\"}).reset_index().sort_values(by=['title'],ascending=False)[:15]\n",
        "plt.figure(figsize=(15,8))\n",
        "plt.barh(df_rating[::-1]['rating'], df_rating[::-1]['title'],color=['violet'])\n",
        "plt.xlabel('Frequency by Ratings')\n",
        "plt.ylabel('Ratings')\n",
        "plt.show()"
      ]
    },
    {
      "cell_type": "code",
      "execution_count": null,
      "metadata": {
        "id": "7JwjsthDmbuq"
      },
      "outputs": [],
      "source": [
        "df_rating=df_uk_movies.groupby(['rating']).agg({\"title\":\"nunique\"}).reset_index().sort_values(by=['title'],ascending=False)[:15]\n",
        "plt.figure(figsize=(15,8))\n",
        "plt.barh(df_rating[::-1]['rating'], df_rating[::-1]['title'],color=['violet'])\n",
        "plt.xlabel('Frequency by Ratings')\n",
        "plt.ylabel('Ratings')\n",
        "plt.show()"
      ]
    },
    {
      "cell_type": "markdown",
      "metadata": {
        "id": "zk68i-nRmbur"
      },
      "source": [
        "So it seems plaussible to conclude that the popular ratings across Netflix includes Parental Guidance and Mature Audiences in TV Shows and R Rated+MA Rated in Movies in UK\n"
      ]
    },
    {
      "cell_type": "code",
      "execution_count": null,
      "metadata": {
        "id": "Tpd9ULrrmbur"
      },
      "outputs": [],
      "source": [
        "df_duration=df_uk_movies.groupby(['duration']).agg({\"title\":\"nunique\"}).reset_index().sort_values(by=['title'],ascending=False)[:10]\n",
        "plt.figure(figsize=(15,8))\n",
        "plt.barh(df_duration[::-1]['duration'], df_duration[::-1]['title'],color=['pink'])\n",
        "plt.xlabel('Frequency by Duration')\n",
        "plt.ylabel('Duration')\n",
        "plt.show()"
      ]
    },
    {
      "cell_type": "markdown",
      "metadata": {
        "id": "2Ek4NhRqmbus"
      },
      "source": [
        "Across movies ranges of minutes in UK have a sweet spot at 80-120 mins."
      ]
    },
    {
      "cell_type": "code",
      "execution_count": null,
      "metadata": {
        "id": "tvuc2cnOmbus"
      },
      "outputs": [],
      "source": [
        "df_actors=df_uk_shows.groupby(['Actors']).agg({\"title\":\"nunique\"}).reset_index().sort_values(by=['title'],ascending=False)[:10]\n",
        "df_actors=df_actors[df_actors['Actors']!='Unknown Actor']\n",
        "plt.figure(figsize=(15,8))\n",
        "plt.barh(df_actors[::-1]['Actors'], df_actors[::-1]['title'],color=['indigo'])\n",
        "plt.xlabel('Number of Shows')\n",
        "plt.ylabel('Popular Actors')\n",
        "plt.show()"
      ]
    },
    {
      "cell_type": "code",
      "execution_count": null,
      "metadata": {
        "id": "eIFG-mXimbut"
      },
      "outputs": [],
      "source": [
        "df_actors['Actors'].values"
      ]
    },
    {
      "cell_type": "markdown",
      "metadata": {
        "id": "7sGUDwgVmbut"
      },
      "source": [
        "**Popular Actors in TV Shows in UK are:-**\n",
        "<br>\n",
        "'David Attenborough', \n",
        "<br>\n",
        "'Terry Jones',\n",
        "<br>\n",
        "'Graham Chapman', \n",
        "<br>\n",
        "'John Cleese',\n",
        "<br>\n",
        "'Eric Idle', \n",
        "<br>\n",
        "'Michael Palin',\n",
        "<br> \n",
        "'Terry Gilliam',\n",
        "<br>\n",
        "'Teresa Gallagher',\n",
        "<br>\n",
        "'Harriet Walter'"
      ]
    },
    {
      "cell_type": "code",
      "execution_count": null,
      "metadata": {
        "id": "gVlzsLkymbuu"
      },
      "outputs": [],
      "source": [
        "df_actors=df_uk_movies.groupby(['Actors']).agg({\"title\":\"nunique\"}).reset_index().sort_values(by=['title'],ascending=False)[:15]\n",
        "df_actors=df_actors[df_actors['Actors']!='Unknown Actor']\n",
        "plt.figure(figsize=(15,8))\n",
        "plt.barh(df_actors[::-1]['Actors'], df_actors[::-1]['title'],color=['indigo'])\n",
        "plt.xlabel('Number of Movies')\n",
        "plt.ylabel('Popular Actors')\n",
        "plt.show()"
      ]
    },
    {
      "cell_type": "code",
      "execution_count": null,
      "metadata": {
        "id": "CAJgUEjDmbuu"
      },
      "outputs": [],
      "source": [
        "df_actors['Actors'].values"
      ]
    },
    {
      "cell_type": "markdown",
      "metadata": {
        "id": "kupiENyxmbuu"
      },
      "source": [
        "**Popular actors across Movies in UK:-**\n",
        "<br>\n",
        "'John Cleese', \n",
        "<br>\n",
        "'Michael Palin',\n",
        "<br>\n",
        "'Judi Dench',\n",
        "<br>\n",
        "'Keith Wickham',\n",
        "<br>\n",
        "'Eric Idle',\n",
        "<br>\n",
        "'Brendan Gleeson',\n",
        "<br>\n",
        "'Terry Gilliam',\n",
        "<br>\n",
        "'Terry Jones',\n",
        "<br>\n",
        "'Helena Bonham Carter',\n",
        "<br>\n",
        "'Graham Chapman',\n",
        "<br>\n",
        "'Samuel West',\n",
        "<br>\n",
        "'Eddie Marsan',\n",
        "<br>\n",
        "'James Cosmo',\n",
        "<br>\n",
        "'Rob Rackstraw'\n"
      ]
    },
    {
      "cell_type": "code",
      "execution_count": null,
      "metadata": {
        "id": "clSNPO18mbuv"
      },
      "outputs": [],
      "source": [
        "df_directors=df_uk_shows.groupby(['Directors']).agg({\"title\":\"nunique\"}).reset_index().sort_values(by=['title'],ascending=False)[:10]\n",
        "df_directors=df_directors[df_directors['Directors']!='Unknown Director']\n",
        "plt.figure(figsize=(15,8))\n",
        "plt.barh(df_directors[::-1]['Directors'], df_directors[::-1]['title'],color=['indigo'])\n",
        "plt.xlabel('Number of Movies')\n",
        "plt.ylabel('Popular Directors')\n",
        "plt.show()"
      ]
    },
    {
      "cell_type": "code",
      "execution_count": null,
      "metadata": {
        "id": "-JCOap2Kmbuv"
      },
      "outputs": [],
      "source": [
        "df_directors['Directors'].values"
      ]
    },
    {
      "cell_type": "code",
      "execution_count": null,
      "metadata": {
        "id": "pzN20Gr8mbuw"
      },
      "outputs": [],
      "source": [
        "df_directors=df_uk_movies.groupby(['Directors']).agg({\"title\":\"nunique\"}).reset_index().sort_values(by=['title'],ascending=False)[:15]\n",
        "df_directors=df_directors[df_directors['Directors']!='Unknown Director']\n",
        "plt.figure(figsize=(15,8))\n",
        "plt.barh(df_directors[::-1]['Directors'], df_directors[::-1]['title'],color=['indigo'])\n",
        "plt.xlabel('Number of Movies')\n",
        "plt.ylabel('Popular Directors')\n",
        "plt.show()"
      ]
    },
    {
      "cell_type": "code",
      "execution_count": null,
      "metadata": {
        "id": "7fvAvrkimbux"
      },
      "outputs": [],
      "source": [
        "df_directors['Directors'].values"
      ]
    },
    {
      "cell_type": "markdown",
      "metadata": {
        "id": "GOu-jJZ8mbux"
      },
      "source": [
        "**Popular directors across movies in UK:-**\n",
        "<br>\n",
        "'Joey So',\n",
        "<br>\n",
        "'Edward Cotterill'\n"
      ]
    },
    {
      "cell_type": "code",
      "execution_count": null,
      "metadata": {
        "id": "PMI-TSGH79GR"
      },
      "outputs": [],
      "source": [
        "df_year=df_uk_movies.groupby(['year']).agg({\"title\":\"nunique\"}).reset_index()\n",
        "sns.lineplot(data=df_year, x='year', y='title')\n",
        "plt.ylabel(\"Movies Released in the Year\")\n",
        "plt.xlabel(\"Year\")\n",
        "plt.show()"
      ]
    },
    {
      "cell_type": "code",
      "execution_count": null,
      "metadata": {
        "id": "NHSbW7Rq79Ju"
      },
      "outputs": [],
      "source": [
        "df_year=df_uk_shows.groupby(['year']).agg({\"title\":\"nunique\"}).reset_index()\n",
        "sns.lineplot(data=df_year, x='year', y='title')\n",
        "plt.ylabel(\"Movies Released in the Year\")\n",
        "plt.xlabel(\"Year\")\n",
        "plt.show()"
      ]
    },
    {
      "cell_type": "markdown",
      "metadata": {
        "id": "4uLd-2Jy79e9"
      },
      "source": [
        "In terms of TV Shows, UK saw a downfall in 2018 from 2017, then a great increase in 2019 but has been reducing since then.\n",
        "\n",
        "In terms of Movies,the number of popular movies in UK increased till 2019, since then it's decreasing."
      ]
    },
    {
      "cell_type": "code",
      "execution_count": null,
      "metadata": {
        "id": "itDouV_fmbux"
      },
      "outputs": [],
      "source": [
        "df_week=df_uk_shows.groupby(['week_Added']).agg({\"title\":\"nunique\"}).reset_index()\n",
        "plt.figure(figsize=(15,8))\n",
        "sns.lineplot(data=df_week, x='week_Added', y='title')\n",
        "plt.ylabel(\"Shows Released in the Week\")\n",
        "plt.xlabel(\"Week No.\")\n",
        "plt.show()"
      ]
    },
    {
      "cell_type": "code",
      "execution_count": null,
      "metadata": {
        "id": "gPTvXHxfmbuy"
      },
      "outputs": [],
      "source": [
        "df_week=df_uk_movies.groupby(['week_Added']).agg({\"title\":\"nunique\"}).reset_index()\n",
        "plt.figure(figsize=(15,8))\n",
        "sns.lineplot(data=df_week, x='week_Added', y='title')\n",
        "plt.ylabel(\"Movies Released in the Week\")\n",
        "plt.xlabel(\"Week No.\")\n",
        "plt.show()"
      ]
    },
    {
      "cell_type": "code",
      "execution_count": null,
      "metadata": {
        "id": "4UZLgDqBmbuy"
      },
      "outputs": [],
      "source": [
        "df_month=df_uk_shows.groupby(['month_added']).agg({\"title\":\"nunique\"}).reset_index()\n",
        "sns.lineplot(data=df_month, x='month_added', y='title')\n",
        "plt.ylabel(\"TV Shows Released in the Month\")\n",
        "plt.xlabel(\"Month\")\n",
        "plt.show()"
      ]
    },
    {
      "cell_type": "code",
      "execution_count": null,
      "metadata": {
        "id": "hQNiZ3N0mbuy"
      },
      "outputs": [],
      "source": [
        "df_month=df_uk_movies.groupby(['month_added']).agg({\"title\":\"nunique\"}).reset_index()\n",
        "sns.lineplot(data=df_month, x='month_added', y='title')\n",
        "plt.ylabel(\"Movies Released in the Month\")\n",
        "plt.xlabel(\"Month\")\n",
        "plt.show()"
      ]
    },
    {
      "cell_type": "markdown",
      "metadata": {
        "id": "PFbGIrYEmbuz"
      },
      "source": [
        "TV Shows are added in Netflix by a tremendous amount in March in UK\n",
        "\n",
        "Movies are added in Netflix in India by a tremendous amount in first week/last month of current year and first month of next year"
      ]
    },
    {
      "cell_type": "code",
      "execution_count": null,
      "metadata": {
        "id": "cW-43HNaGIgn"
      },
      "outputs": [],
      "source": [
        "df_release_year=df_uk_shows[df_uk_shows['release_year']>=1980].groupby(['release_year']).agg({\"title\":\"nunique\"}).reset_index()\n",
        "sns.lineplot(data=df_release_year, x='release_year', y='title')\n",
        "plt.ylabel(\"Movies Actual Release Date\")\n",
        "plt.xlabel(\"Year\")\n",
        "plt.show()"
      ]
    },
    {
      "cell_type": "code",
      "execution_count": null,
      "metadata": {
        "id": "JDmcVwbwGIkQ"
      },
      "outputs": [],
      "source": [
        "df_release_year=df_uk_movies[df_uk_movies['release_year']>=1980].groupby(['release_year']).agg({\"title\":\"nunique\"}).reset_index()\n",
        "sns.lineplot(data=df_release_year, x='release_year', y='title')\n",
        "plt.ylabel(\"Movies Actual Release Date\")\n",
        "plt.xlabel(\"Year\")\n",
        "plt.show()"
      ]
    },
    {
      "cell_type": "markdown",
      "metadata": {
        "id": "Mv58LD59GI4X"
      },
      "source": [
        "Same trend of reduction in movies and shows after 2020."
      ]
    },
    {
      "cell_type": "code",
      "execution_count": null,
      "metadata": {
        "id": "kfQfaJsLmbuz"
      },
      "outputs": [],
      "source": [
        "#Analysing a combination of actors and directors\n",
        "df_uk_movies['Actor_Director_Combination'] = df_uk_movies.Actors.str.cat(df_uk_movies.Directors, sep=' and ')\n",
        "df_uk_movies_subset=df_uk_movies[df_uk_movies['Actors']!='Unknown Actor']\n",
        "df_uk_movies_subset=df_uk_movies_subset[df_uk_movies_subset['Directors']!='Unknown Director']\n",
        "df_uk_movies_subset.head()"
      ]
    },
    {
      "cell_type": "code",
      "execution_count": null,
      "metadata": {
        "id": "XYsE7Gzvmbuz"
      },
      "outputs": [],
      "source": [
        "df_uk_shows['Actor_Director_Combination'] = df_uk_shows.Actors.str.cat(df_uk_shows.Directors, sep=' and ')\n",
        "df_uk_shows_subset=df_uk_shows[df_uk_shows['Actors']!='Unknown Actor']\n",
        "df_uk_shows_subset=df_uk_shows_subset[df_uk_shows_subset['Directors']!='Unknown Director']\n",
        "df_uk_shows_subset.head()"
      ]
    },
    {
      "cell_type": "code",
      "execution_count": null,
      "metadata": {
        "id": "VPA_GZ55mbu0"
      },
      "outputs": [],
      "source": [
        "df_actors_directors=df_uk_shows_subset.groupby(['Actor_Director_Combination']).agg({\"title\":\"nunique\"}).reset_index().sort_values(by=['title'],ascending=False)[:15]\n",
        "plt.figure(figsize=(15,8))\n",
        "plt.barh(df_actors_directors[::-1]['Actor_Director_Combination'], df_actors_directors[::-1]['title'],color=['indigo'])\n",
        "plt.xlabel('Number of Shows')\n",
        "plt.ylabel('Popular Actor-Director Combination')\n",
        "plt.show()"
      ]
    },
    {
      "cell_type": "code",
      "execution_count": null,
      "metadata": {
        "id": "9Hd2o1gwmbu0"
      },
      "outputs": [],
      "source": [
        "df_actors_directors=df_uk_movies_subset.groupby(['Actor_Director_Combination']).agg({\"title\":\"nunique\"}).reset_index().sort_values(by=['title'],ascending=False)[:15]\n",
        "plt.figure(figsize=(15,8))\n",
        "plt.barh(df_actors_directors[::-1]['Actor_Director_Combination'], df_actors_directors[::-1]['title'],color=['indigo'])\n",
        "plt.xlabel('Number of Movies')\n",
        "plt.ylabel('Popular Actor-Director Combination')\n",
        "plt.show()"
      ]
    },
    {
      "cell_type": "code",
      "execution_count": null,
      "metadata": {
        "id": "dpvlu1Qpmbu0"
      },
      "outputs": [],
      "source": [
        "df_actors_directors['Actor_Director_Combination'].values"
      ]
    },
    {
      "cell_type": "markdown",
      "metadata": {
        "id": "O7UQHS1Embu0"
      },
      "source": [
        "**The Most Popular Actor Director Combination in Movies Across UK are:-**\n",
        "<br>\n",
        "'Keith Wickham and Joey So',\n",
        "<br>\n",
        "'Rob Rackstraw and Joey So'"
      ]
    },
    {
      "cell_type": "markdown",
      "metadata": {
        "id": "W4EkijdiwXca"
      },
      "source": [
        "#### Univariate Analysis separately for shows in Japan\n",
        "---\n",
        "\n"
      ]
    },
    {
      "cell_type": "code",
      "execution_count": null,
      "metadata": {
        "id": "nk0YUzmGwXcb"
      },
      "outputs": [],
      "source": [
        "#Analyzing India for both shows and movies\n",
        "df_japan_shows=df_final1[df_final1['country']=='Japan'][df_final1[df_final1['country']=='Japan']['type']=='TV Show']"
      ]
    },
    {
      "cell_type": "code",
      "execution_count": null,
      "metadata": {
        "id": "JZ2ZD8tawXcc"
      },
      "outputs": [],
      "source": [
        "df_genre=df_japan_shows.groupby(['Genre']).agg({\"title\":\"nunique\"}).reset_index().sort_values(by=['title'],ascending=False)[:15]\n",
        "plt.figure(figsize=(15,8))\n",
        "plt.barh(df_genre[::-1]['Genre'], df_genre[::-1]['title'],color=['orange'])\n",
        "plt.xlabel('Frequency of Genres')\n",
        "plt.ylabel('Genres')\n",
        "plt.show()"
      ]
    },
    {
      "cell_type": "markdown",
      "metadata": {
        "id": "P6a1AVR0wXcd"
      },
      "source": [
        "International TV Shows and Anime Genres are popular in TV Shows in Japan"
      ]
    },
    {
      "cell_type": "code",
      "execution_count": null,
      "metadata": {
        "id": "ZXb7w9XOwXce"
      },
      "outputs": [],
      "source": [
        "df_rating=df_japan_shows.groupby(['rating']).agg({\"title\":\"nunique\"}).reset_index().sort_values(by=['title'],ascending=False)[:15]\n",
        "plt.figure(figsize=(15,8))\n",
        "plt.barh(df_rating[::-1]['rating'], df_rating[::-1]['title'],color=['violet'])\n",
        "plt.xlabel('Frequency by Ratings')\n",
        "plt.ylabel('Ratings')\n",
        "plt.show()"
      ]
    },
    {
      "cell_type": "markdown",
      "metadata": {
        "id": "n7zwXlW1wXcf"
      },
      "source": [
        "So it seems plaussible to conclude that the popular ratings across Netflix includes TV-14 Mature Audiences in TV Shows "
      ]
    },
    {
      "cell_type": "code",
      "execution_count": null,
      "metadata": {
        "id": "9j0YwWJ8wXch"
      },
      "outputs": [],
      "source": [
        "df_actors=df_japan_shows.groupby(['Actors']).agg({\"title\":\"nunique\"}).reset_index().sort_values(by=['title'],ascending=False)[:10]\n",
        "df_actors=df_actors[df_actors['Actors']!='Unknown Actor']\n",
        "plt.figure(figsize=(15,8))\n",
        "plt.barh(df_actors[::-1]['Actors'], df_actors[::-1]['title'],color=['indigo'])\n",
        "plt.xlabel('Number of Shows')\n",
        "plt.ylabel('Popular Actors')\n",
        "plt.show()"
      ]
    },
    {
      "cell_type": "code",
      "execution_count": null,
      "metadata": {
        "id": "GYAu4ABLwXch"
      },
      "outputs": [],
      "source": [
        "df_actors['Actors'].values"
      ]
    },
    {
      "cell_type": "markdown",
      "metadata": {
        "id": "4fUP9TVAwXci"
      },
      "source": [
        "**Popular Actors in TV Shows in Japan are:-**\n",
        "<br>\n",
        "'Takahiro Sakurai',\n",
        "<br>\n",
        "'Yuki Kaji',\n",
        "<br>\n",
        "'Daisuke Ono',\n",
        "<br>\n",
        "'Junichi Suwabe',\n",
        "<br>\n",
        "'Ai Kayano',\n",
        "<br>\n",
        "'Yuichi Nakamura',\n",
        "<br>\n",
        "'Yoshimasa Hosoya',\n",
        "<br>\n",
        "'Jun Fukuyama',\n",
        "<br>\n",
        "'Hiroshi Kamiya',\n",
        "<br>\n",
        "'Kana Hanazawa'"
      ]
    },
    {
      "cell_type": "code",
      "execution_count": null,
      "metadata": {
        "id": "wDTqWiZ2wXck"
      },
      "outputs": [],
      "source": [
        "df_directors=df_japan_shows.groupby(['Directors']).agg({\"title\":\"nunique\"}).reset_index().sort_values(by=['title'],ascending=False)[:10]\n",
        "df_directors=df_directors[df_directors['Directors']!='Unknown Director']\n",
        "plt.figure(figsize=(15,8))\n",
        "plt.barh(df_directors[::-1]['Directors'], df_directors[::-1]['title'],color=['indigo'])\n",
        "plt.xlabel('Number of Shows')\n",
        "plt.ylabel('Popular Directors')\n",
        "plt.show()"
      ]
    },
    {
      "cell_type": "code",
      "execution_count": null,
      "metadata": {
        "id": "_MRQ-K3lwXcl"
      },
      "outputs": [],
      "source": [
        "df_directors['Directors'].values"
      ]
    },
    {
      "cell_type": "markdown",
      "metadata": {
        "id": "GHs0gNnBwXcm"
      },
      "source": [
        "**All Directors are one time directors only**"
      ]
    },
    {
      "cell_type": "code",
      "execution_count": null,
      "metadata": {
        "id": "9tLSumpi8nvi"
      },
      "outputs": [],
      "source": [
        "df_year=df_japan_shows.groupby(['year']).agg({\"title\":\"nunique\"}).reset_index()\n",
        "sns.lineplot(data=df_year, x='year', y='title')\n",
        "plt.ylabel(\"Movies Released in the Year\")\n",
        "plt.xlabel(\"Year\")\n",
        "plt.show()"
      ]
    },
    {
      "cell_type": "markdown",
      "metadata": {
        "id": "tIYRgLXH8rEi"
      },
      "source": [
        "In Japan, TV Shows have diminished in 2017 from 2016 and then increased till 2020 after which it has reduced in 2021."
      ]
    },
    {
      "cell_type": "code",
      "execution_count": null,
      "metadata": {
        "id": "_yO3PpaWwXco"
      },
      "outputs": [],
      "source": [
        "df_week=df_japan_shows.groupby(['week_Added']).agg({\"title\":\"nunique\"}).reset_index()\n",
        "plt.figure(figsize=(15,8))\n",
        "sns.lineplot(data=df_week, x='week_Added', y='title')\n",
        "plt.ylabel(\"Movies Released in the Week\")\n",
        "plt.xlabel(\"Week No.\")\n",
        "plt.show()"
      ]
    },
    {
      "cell_type": "code",
      "execution_count": null,
      "metadata": {
        "id": "vbj6vSRUwXcp"
      },
      "outputs": [],
      "source": [
        "df_month=df_japan_shows.groupby(['month_added']).agg({\"title\":\"nunique\"}).reset_index()\n",
        "sns.lineplot(data=df_month, x='month_added', y='title')\n",
        "plt.ylabel(\"TV Shows Released in the Month\")\n",
        "plt.xlabel(\"Month\")\n",
        "plt.show()"
      ]
    },
    {
      "cell_type": "markdown",
      "metadata": {
        "id": "gAXcqCHkwXcq"
      },
      "source": [
        "TV Shows are added in Netflix by significant numbers in April and January in Japan"
      ]
    },
    {
      "cell_type": "code",
      "execution_count": null,
      "metadata": {
        "id": "Bg4Q5_ypGu05"
      },
      "outputs": [],
      "source": [
        "df_release_year=df_japan_shows[df_japan_shows['release_year']>=1980].groupby(['release_year']).agg({\"title\":\"nunique\"}).reset_index()\n",
        "sns.lineplot(data=df_release_year, x='release_year', y='title')\n",
        "plt.ylabel(\"Movies Actual Release Date\")\n",
        "plt.xlabel(\"Year\")\n",
        "plt.show()"
      ]
    },
    {
      "cell_type": "markdown",
      "metadata": {
        "id": "AhHFmV1cGvIB"
      },
      "source": [
        "Reduction in TV Shows after 2019 in Japan"
      ]
    },
    {
      "cell_type": "markdown",
      "metadata": {
        "id": "vru5R93n2CrJ"
      },
      "source": [
        "#### Univariate Analysis separately for shows in South Korea\n",
        "---\n",
        "\n"
      ]
    },
    {
      "cell_type": "code",
      "execution_count": null,
      "metadata": {
        "id": "FUVKvmsW2CrJ"
      },
      "outputs": [],
      "source": [
        "#Analyzing India for both shows and movies\n",
        "df_sk_shows=df_final1[df_final1['country']=='South Korea'][df_final1[df_final1['country']=='South Korea']['type']=='TV Show']"
      ]
    },
    {
      "cell_type": "code",
      "execution_count": null,
      "metadata": {
        "id": "8zr-9gmf2CrJ"
      },
      "outputs": [],
      "source": [
        "df_genre=df_sk_shows.groupby(['Genre']).agg({\"title\":\"nunique\"}).reset_index().sort_values(by=['title'],ascending=False)[:15]\n",
        "plt.figure(figsize=(15,8))\n",
        "plt.barh(df_genre[::-1]['Genre'], df_genre[::-1]['title'],color=['orange'])\n",
        "plt.xlabel('Frequency of Genres')\n",
        "plt.ylabel('Genres')\n",
        "plt.show()"
      ]
    },
    {
      "cell_type": "markdown",
      "metadata": {
        "id": "zNV3PIBO2CrK"
      },
      "source": [
        "International TV Shows,Romantic TV Shows,Drama,Crime and Comedy Genres are popular in TV Shows in S.Korea.\n",
        "\n",
        "Only S.Korea has Romance as a top 3 favorable genre which depicts an inclination of their audience"
      ]
    },
    {
      "cell_type": "code",
      "execution_count": null,
      "metadata": {
        "id": "-ugB5LL_2CrK"
      },
      "outputs": [],
      "source": [
        "df_rating=df_sk_shows.groupby(['rating']).agg({\"title\":\"nunique\"}).reset_index().sort_values(by=['title'],ascending=False)[:15]\n",
        "plt.figure(figsize=(15,8))\n",
        "plt.barh(df_rating[::-1]['rating'], df_rating[::-1]['title'],color=['violet'])\n",
        "plt.xlabel('Frequency by Ratings')\n",
        "plt.ylabel('Ratings')\n",
        "plt.show()"
      ]
    },
    {
      "cell_type": "markdown",
      "metadata": {
        "id": "PROYTJqF2CrK"
      },
      "source": [
        "So it seems plaussible to conclude that the popular ratings across Netflix includes TV-14 and Mature Audiences in TV Shows "
      ]
    },
    {
      "cell_type": "code",
      "execution_count": null,
      "metadata": {
        "id": "7HIVc4RV2CrK"
      },
      "outputs": [],
      "source": [
        "df_actors=df_sk_shows.groupby(['Actors']).agg({\"title\":\"nunique\"}).reset_index().sort_values(by=['title'],ascending=False)[:10]\n",
        "df_actors=df_actors[df_actors['Actors']!='Unknown Actor']\n",
        "plt.figure(figsize=(15,8))\n",
        "plt.barh(df_actors[::-1]['Actors'], df_actors[::-1]['title'],color=['indigo'])\n",
        "plt.xlabel('Number of Shows')\n",
        "plt.ylabel('Popular Actors')\n",
        "plt.show()"
      ]
    },
    {
      "cell_type": "code",
      "execution_count": null,
      "metadata": {
        "id": "KSMBre9e2CrK"
      },
      "outputs": [],
      "source": [
        "df_actors['Actors'].values"
      ]
    },
    {
      "cell_type": "markdown",
      "metadata": {
        "id": "-0jPGcQ52CrL"
      },
      "source": [
        "**Popular Actors in TV Shows in South Korea are:-**\n",
        "<br>\n",
        "'Sung Dong-il',\n",
        "<br>\n",
        "'Kim Won-hae',\n",
        "<br>\n",
        "'Cho Seong-ha',\n",
        "<br>\n",
        "'Nam Joo-hyuk'\n"
      ]
    },
    {
      "cell_type": "code",
      "execution_count": null,
      "metadata": {
        "id": "GkVuGQ-_2CrL"
      },
      "outputs": [],
      "source": [
        "df_directors=df_sk_shows.groupby(['Directors']).agg({\"title\":\"nunique\"}).reset_index().sort_values(by=['title'],ascending=False)[:10]\n",
        "df_directors=df_directors[df_directors['Directors']!='Unknown Director']\n",
        "plt.figure(figsize=(15,8))\n",
        "plt.barh(df_directors[::-1]['Directors'], df_directors[::-1]['title'],color=['indigo'])\n",
        "plt.xlabel('Number of Shows')\n",
        "plt.ylabel('Popular Directors')\n",
        "plt.show()"
      ]
    },
    {
      "cell_type": "markdown",
      "metadata": {
        "id": "XfSXUUiA2CrL"
      },
      "source": [
        "**Two directors have directed 2 shows and rest all Directors are one time directors only**"
      ]
    },
    {
      "cell_type": "code",
      "execution_count": null,
      "metadata": {
        "id": "FlAk_uXM89U3"
      },
      "outputs": [],
      "source": [
        "df_year=df_sk_shows.groupby(['year']).agg({\"title\":\"nunique\"}).reset_index()\n",
        "sns.lineplot(data=df_year, x='year', y='title')\n",
        "plt.ylabel(\"Movies Released in the Year\")\n",
        "plt.xlabel(\"Year\")\n",
        "plt.show()"
      ]
    },
    {
      "cell_type": "markdown",
      "metadata": {
        "id": "i_mV_d7U89pW"
      },
      "source": [
        "In South Korea, number of TV Shows reduced in 2018 from 2017, then increased till 2019 but have been on a heavy downfall since then"
      ]
    },
    {
      "cell_type": "code",
      "execution_count": null,
      "metadata": {
        "id": "TowhmGU52CrL"
      },
      "outputs": [],
      "source": [
        "df_week=df_sk_shows.groupby(['week_Added']).agg({\"title\":\"nunique\"}).reset_index()\n",
        "plt.figure(figsize=(15,8))\n",
        "sns.lineplot(data=df_week, x='week_Added', y='title')\n",
        "plt.ylabel(\"Movies Released in the Week\")\n",
        "plt.xlabel(\"Week No.\")\n",
        "plt.show()"
      ]
    },
    {
      "cell_type": "code",
      "execution_count": null,
      "metadata": {
        "id": "QCbnRWrR2CrL"
      },
      "outputs": [],
      "source": [
        "df_month=df_sk_shows.groupby(['month_added']).agg({\"title\":\"nunique\"}).reset_index()\n",
        "sns.lineplot(data=df_month, x='month_added', y='title')\n",
        "plt.ylabel(\"TV Shows Released in the Month\")\n",
        "plt.xlabel(\"Month\")\n",
        "plt.show()"
      ]
    },
    {
      "cell_type": "markdown",
      "metadata": {
        "id": "3EeQk5TR2CrM"
      },
      "source": [
        "TV Shows are added in Netflix by significant numbers in May and January in South Korea"
      ]
    },
    {
      "cell_type": "code",
      "execution_count": null,
      "metadata": {
        "id": "dJBeYtg-2CrM"
      },
      "outputs": [],
      "source": [
        "df_release_year=df_sk_shows[df_sk_shows['release_year']>=1980].groupby(['release_year']).agg({\"title\":\"nunique\"}).reset_index()\n",
        "sns.lineplot(data=df_release_year, x='release_year', y='title')\n",
        "plt.ylabel(\"Movies Actual Release Date\")\n",
        "plt.xlabel(\"Year\")\n",
        "plt.show()"
      ]
    },
    {
      "cell_type": "markdown",
      "metadata": {
        "id": "uywvxcUGG9Xh"
      },
      "source": [
        "The number of TV Shows in S.Korea reached peak in 2016. It then reached  \n",
        "a second peak in 2019. It has reduced in 2021 from 2020."
      ]
    },
    {
      "cell_type": "markdown",
      "metadata": {
        "id": "qf9Etf4uEEaI"
      },
      "source": [
        "### Recommendations\n",
        "\n",
        "1) The most popular Genres across the countries and in both TV Shows and Movies are \n",
        "Drama, Comedy and International TV Shows/Movies, so content aligning to that \n",
        "is recommended.\n",
        "\n",
        "2)Add TV Shows in July/August and Movies in last week of the year/first month of \n",
        "the next year.\n",
        "\n",
        "3)For USA audience 80-120 mins is the recommended length for movies and Kids TV Shows\n",
        "are also popular along with the genres in first point, hence recommended.\n",
        "\n",
        "4)For UK audience, recommended length for movies is same as that of USA (80-120 mins)\n",
        "\n",
        "5)The target audience in USA and India is recommended to be 14+ and above ratings while\n",
        "for UK, its recommended to be completely Mature/R content .\n",
        "\n",
        "6)Add movies for Indian Audience, it has been declining since 2018.\n",
        "\n",
        "7)Anime Genre for Japan and Romantic Genre in TV Shows for\n",
        " South Korean audiences is recommended.\n",
        "\n",
        "8) While creating content, take into consideration the popular actors/directors\n",
        "for that country. Also take into account the director-actor combination which \n",
        "is highly recommended. \n",
        "\n"
      ]
    },
    {
      "cell_type": "code",
      "execution_count": null,
      "metadata": {
        "id": "nuM1xBmt2CrM"
      },
      "outputs": [],
      "source": []
    },
    {
      "cell_type": "code",
      "execution_count": null,
      "metadata": {
        "id": "cg3HW1Rj2CrM"
      },
      "outputs": [],
      "source": []
    },
    {
      "cell_type": "code",
      "execution_count": null,
      "metadata": {
        "id": "fz5sLfeY2CrM"
      },
      "outputs": [],
      "source": []
    },
    {
      "cell_type": "code",
      "execution_count": null,
      "metadata": {
        "id": "YQU1h_hB2CrM"
      },
      "outputs": [],
      "source": []
    },
    {
      "cell_type": "code",
      "execution_count": null,
      "metadata": {
        "id": "NxgoqP_V2CrM"
      },
      "outputs": [],
      "source": []
    },
    {
      "cell_type": "code",
      "execution_count": null,
      "metadata": {
        "id": "Zf7HSscp2CrM"
      },
      "outputs": [],
      "source": []
    },
    {
      "cell_type": "code",
      "execution_count": null,
      "metadata": {
        "id": "lqenY4ux2CrN"
      },
      "outputs": [],
      "source": []
    },
    {
      "cell_type": "code",
      "execution_count": null,
      "metadata": {
        "id": "B7JFJgmz2CrN"
      },
      "outputs": [],
      "source": []
    },
    {
      "cell_type": "code",
      "execution_count": null,
      "metadata": {
        "id": "V3xYbcQE2CrN"
      },
      "outputs": [],
      "source": []
    },
    {
      "cell_type": "code",
      "execution_count": null,
      "metadata": {
        "id": "kRmCNUYE2CrN"
      },
      "outputs": [],
      "source": []
    },
    {
      "cell_type": "code",
      "execution_count": null,
      "metadata": {
        "id": "Q7uWJex22CrN"
      },
      "outputs": [],
      "source": []
    },
    {
      "cell_type": "code",
      "execution_count": null,
      "metadata": {
        "id": "icLjlkOl2CrN"
      },
      "outputs": [],
      "source": []
    },
    {
      "cell_type": "code",
      "execution_count": null,
      "metadata": {
        "id": "nohmCSdp2CrN"
      },
      "outputs": [],
      "source": []
    },
    {
      "cell_type": "code",
      "execution_count": null,
      "metadata": {
        "id": "NUvNlSnU2CrN"
      },
      "outputs": [],
      "source": []
    },
    {
      "cell_type": "code",
      "execution_count": null,
      "metadata": {
        "id": "ghqMKFoi2CrN"
      },
      "outputs": [],
      "source": []
    },
    {
      "cell_type": "code",
      "execution_count": null,
      "metadata": {
        "id": "SeBxJxMc2CrN"
      },
      "outputs": [],
      "source": []
    },
    {
      "cell_type": "code",
      "execution_count": null,
      "metadata": {
        "id": "o4QbDtXtmbu1"
      },
      "outputs": [],
      "source": []
    },
    {
      "cell_type": "code",
      "execution_count": null,
      "metadata": {
        "id": "zYVou-Rzmbu1"
      },
      "outputs": [],
      "source": []
    },
    {
      "cell_type": "code",
      "execution_count": null,
      "metadata": {
        "id": "xeAUefPYmbu1"
      },
      "outputs": [],
      "source": []
    },
    {
      "cell_type": "code",
      "execution_count": null,
      "metadata": {
        "id": "JUwCKv7maIhG"
      },
      "outputs": [],
      "source": []
    },
    {
      "cell_type": "code",
      "execution_count": null,
      "metadata": {
        "id": "OORcz-PMaIhG"
      },
      "outputs": [],
      "source": []
    },
    {
      "cell_type": "code",
      "execution_count": null,
      "metadata": {
        "id": "f4vPzLmvnvvL"
      },
      "outputs": [],
      "source": []
    },
    {
      "cell_type": "code",
      "execution_count": null,
      "metadata": {
        "id": "VE23GPdMnv5S"
      },
      "outputs": [],
      "source": []
    },
    {
      "cell_type": "code",
      "execution_count": null,
      "metadata": {
        "id": "oP_qqFRsmav5"
      },
      "outputs": [],
      "source": []
    },
    {
      "cell_type": "code",
      "execution_count": null,
      "metadata": {
        "id": "56mA2hpMmaz2"
      },
      "outputs": [],
      "source": []
    },
    {
      "cell_type": "code",
      "execution_count": null,
      "metadata": {
        "id": "dsQUfQUcwUu4"
      },
      "outputs": [],
      "source": []
    },
    {
      "cell_type": "code",
      "execution_count": null,
      "metadata": {
        "id": "5Elw0jgowUy0"
      },
      "outputs": [],
      "source": []
    },
    {
      "cell_type": "code",
      "execution_count": null,
      "metadata": {
        "id": "u5B9WhfwwU06"
      },
      "outputs": [],
      "source": []
    },
    {
      "cell_type": "code",
      "execution_count": null,
      "metadata": {
        "id": "MozhjeFZwU3U"
      },
      "outputs": [],
      "source": []
    },
    {
      "cell_type": "code",
      "execution_count": null,
      "metadata": {
        "id": "Y0dkAJ6cwU5Z"
      },
      "outputs": [],
      "source": []
    },
    {
      "cell_type": "code",
      "execution_count": null,
      "metadata": {
        "id": "TMtV40rGwU_R"
      },
      "outputs": [],
      "source": []
    },
    {
      "cell_type": "code",
      "execution_count": null,
      "metadata": {
        "id": "UEDOBP5zwVBh"
      },
      "outputs": [],
      "source": []
    },
    {
      "cell_type": "code",
      "execution_count": null,
      "metadata": {
        "id": "lN0M7Lck19gW"
      },
      "outputs": [],
      "source": []
    },
    {
      "cell_type": "code",
      "execution_count": null,
      "metadata": {
        "id": "qPTAL1dy19kP"
      },
      "outputs": [],
      "source": []
    }
  ],
  "metadata": {
    "colab": {
      "provenance": [],
      "name": "Business Case: Netflix - Data Exploration and Visualisation.ipynb",
      "include_colab_link": true
    },
    "kernelspec": {
      "display_name": "Python 3",
      "name": "python3"
    },
    "language_info": {
      "name": "python"
    }
  },
  "nbformat": 4,
  "nbformat_minor": 0
}